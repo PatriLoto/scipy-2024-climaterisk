{
 "cells": [
  {
   "cell_type": "markdown",
   "id": "61440e99-acd2-4762-bf5d-bb18083f8abc",
   "metadata": {},
   "source": [
    "# Initial Setup\n",
    "\n",
    "This notebook provides essential information for"
   ]
  },
  {
   "cell_type": "markdown",
   "id": "7114fb6f-a73f-4503-8c14-5d6443d11d42",
   "metadata": {},
   "source": [
    "## 1. Setting up a NASA Earthdata Account"
   ]
  },
  {
   "cell_type": "markdown",
   "id": "755815a6-3ac0-491b-96b8-320f0c54c1a8",
   "metadata": {
    "jupyter": {
     "source_hidden": true
    }
   },
   "source": [
    "**You can complete this step before the day of the actual tutorial.**\n",
    "\n",
    "### Brief Introduction\n",
    "\n",
    "The [NASA Earth Science Data Systems (ESDS) program oversees the lifecycle of Earth science data from all its Earth observation missions, from acquisition to processing and distribution.\n",
    "\n",
    "For the purposes of this guide, the NASA Earthdata website is the entry point that allows full, free and open access to NASA's Earth science data collections, in order to accelerate scientific progress for the benefit of society. To access the data through this portal, users must first define their access credentials. To create an EarthData account, follow these steps:\n",
    "\n",
    "+ Go to the Earth Nasa website: [`https://www.earthdata.nasa.gov/`](https://www.earthdata.nasa.gov/). Then, select the menu options \"*Use Data*\" and then \"*Register*\". Finally, navigate to [`https://urs.earthdata.nasa.gov/`](https://urs.earthdata.nasa.gov/).\n",
    "\n",
    "![earthdata_login](../assets/earthdata_login.png) \n",
    "\n",
    "+ Select the \"*Register for a profile*\" option, there choose a username and password. You will need these later, so choose ones that you remember well. You will also need to complete your profile to complete the registration, where you will be asked for information such as email, country, and affiliation. Finally, choose \"*Register for Earthdata Login*\".\n",
    "\n",
    "![earthdata_profile](../assets/earthdata_profile2.png)"
   ]
  },
  {
   "cell_type": "markdown",
   "id": "64d66ffc-fd1f-4cd5-8c54-189d07d6f774",
   "metadata": {},
   "source": [
    "## 2. Logging into the 2i2c Hub"
   ]
  },
  {
   "cell_type": "markdown",
   "id": "1ae7a822-c45a-4363-81f6-e500e46d2e38",
   "metadata": {
    "jupyter": {
     "source_hidden": true
    },
    "lines_to_next_cell": 0
   },
   "source": [
    "**You won't be able to complete this step until the actual day of the tutorial (you'll get the password then).**\n",
    "\n",
    "We will cloud infrastructure provided by [2i2c](https://2i2c.org) for this tutorial.\n",
    "\n",
    "To login to the hub provided by 2i2c, follow these steps:\n",
    "\n",
    "1. **Navigate to the 2i2c Hub:** Point your web browser to [this link](https://climaterisk.opensci.2i2c.cloud).\n",
    "\n",
    "2. **Log in with your Credentials:**\n",
    "\n",
    "  + **Username:** Feel free to choose any username you like.  We suggest using your GitHub username to avoid conflicts.\n",
    "  + **Password:** You'll receive the password on the day of the tutorial.\n",
    "\n",
    "![2i2c_login](../assets/2i2c_login.png)\n",
    "\n",
    "3. **Logging In:**\n",
    "\n",
    "The login process might take a few minutes, especially if a new virtual workspace needs to be created just for you. \n",
    "\n",
    "![start_server2](../assets/start_server_2i2c.png)\n",
    "\n",
    "* **What to Expect:**\n",
    "\n",
    "By default,  logging into [`https://climaterisk.opensci.2i2c.cloud`](https://climaterisk.opensci.2i2c.cloud) automatically clones a repository to work in. If the login is successful, you will see the following screen and are ready to start working. \n",
    "\n",
    "![work_environment_jupyter_lab](../assets/work_environment_jupyter_lab.png) \n",
    "\n",
    "**Notes:** Any files you work on will persist between sessions as long as you use the same username when logging in."
   ]
  },
  {
   "cell_type": "markdown",
   "id": "9215bfdc-fb2a-475e-b96a-2d2d4e242140",
   "metadata": {
    "lines_to_next_cell": 0
   },
   "source": [
    "## 3. Configuring the Cloud Environment Access NASA EarthData from Python"
   ]
  },
  {
   "cell_type": "markdown",
   "id": "bea5cb34-c8e1-4ee8-b9a0-1120443222b9",
   "metadata": {
    "jupyter": {
     "source_hidden": true
    }
   },
   "source": [
    "To access NASA's EarthData products from Python programs or Jupyter notebooks, it is necessary to save your NASA EarthData credentials in a special file called `.netrc` in your home directory.\n",
    "\n",
    "+ You can create this file by executing the script `make_netrc.py` in a terminal:\n",
    "  ```bash\n",
    "  $ python make_netrc.py\n",
    "  ```\n",
    "  You can also choose to execute this script within this Jupyter notebook by executing the Python cell below (using the `%run` magic).\n",
    "\n",
    "  Some caveats:\n",
    "  + The script won't execute if `~/.netrc` exists already. You can delete that file or rename it if you want to preserve the credentials within.\n",
    "  + The script prompts for your NASA EarthData username & password, so watch for the prompt if you execute it from a Jupyter notebook."
   ]
  },
  {
   "cell_type": "code",
   "execution_count": null,
   "id": "933d5de5-9660-411d-aacf-9588915db437",
   "metadata": {},
   "outputs": [],
   "source": [
    "%run make_netrc.py"
   ]
  },
  {
   "cell_type": "markdown",
   "id": "1ccbaf26-047c-4a99-bf0e-04101b8f3ad2",
   "metadata": {
    "jupyter": {
     "source_hidden": true
    }
   },
   "source": [
    "+ Alternatively, you can create a file called `.netrc` in your home folder (i.e., `~/.netrc`) with content as follows:\n",
    "   ```\n",
    "   machine urs.earthdata.nasa.gov login USERNAME password PASSWORD\n",
    "   ```\n",
    "   Of course, you would replace `USERNAME` and `PASSWORD` in your `.netrc` file with your actual NASA EarthData account details. Once the `.netrc` file is saved with your correct credentials, it's good practice to restrict access to the file:\n",
    "   ```bash\n",
    "   $ chmod 600 ~/.netrc\n",
    "   ```"
   ]
  },
  {
   "cell_type": "markdown",
   "id": "7c222fc5-0fae-418b-9e43-b54dfab5f1b1",
   "metadata": {
    "lines_to_next_cell": 0
   },
   "source": [
    "## 4. Verifying Access to NASA EarthData Products"
   ]
  },
  {
   "cell_type": "markdown",
   "id": "2d80ba87-04d1-4aff-b628-976ecde55910",
   "metadata": {
    "jupyter": {
     "source_hidden": true
    },
    "lines_to_next_cell": 0
   },
   "source": [
    "To make sure everything is working properly, execute the script `test_netrc.py`:\n",
    "```bash\n",
    "$ python test_netrc.py\n",
    "```\n",
    "Again, you can execute this directly from this notebook using the Python cell below:"
   ]
  },
  {
   "cell_type": "code",
   "execution_count": null,
   "id": "090c2925-59ae-49fd-a176-a264c2a41450",
   "metadata": {},
   "outputs": [],
   "source": [
    "%run test_netrc.py"
   ]
  },
  {
   "cell_type": "markdown",
   "id": "5f7f8fa0",
   "metadata": {
    "jupyter": {
     "source_hidden": true
    }
   },
   "source": [
    "If that worked smoothly, you're done! You now have everything you need to explore NASA's Earth observation data through the EarthData portal!"
   ]
  }
 ],
 "metadata": {
  "jupytext": {
   "cell_metadata_filter": "-all",
   "main_language": "bash",
   "notebook_metadata_filter": "-all"
  },
  "kernelspec": {
   "display_name": "Python 3 (ipykernel)",
   "language": "python",
   "name": "python3"
  },
  "language_info": {
   "codemirror_mode": {
    "name": "ipython",
    "version": 3
   },
   "file_extension": ".py",
   "mimetype": "text/x-python",
   "name": "python",
   "nbconvert_exporter": "python",
   "pygments_lexer": "ipython3",
   "version": "3.12.4"
  }
 },
 "nbformat": 4,
 "nbformat_minor": 5
}
