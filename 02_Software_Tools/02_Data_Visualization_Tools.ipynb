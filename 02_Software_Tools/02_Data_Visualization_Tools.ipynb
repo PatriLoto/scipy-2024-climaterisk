{
 "cells": [
  {
   "cell_type": "markdown",
   "id": "e1a34870-e670-4bf0-b0a4-0586928ad171",
   "metadata": {},
   "source": [
    "# Data Visualization"
   ]
  },
  {
   "cell_type": "markdown",
   "id": "9151aa33-f2be-4d05-9169-1fe3e354c80f",
   "metadata": {},
   "source": [
    "The primary tools we'll use for plotting come from the [Holoviz](https://holoviz.org/) family of Python libraries, principally [GeoViews](https://geoviews.org/) and [hvPlot](https://hvplot.holoviz.org/). These are largely built on top of [HoloViews](https://holoviews.org/) and support multiple backends for rendering plots (notably [Bokeh](http://bokeh.pydata.org/) for interactive visualization and [Matplotlib](http://matplotlib.org/) for static, publication-quality plots)."
   ]
  },
  {
   "cell_type": "markdown",
   "id": "39894937-15c0-4268-9428-6167a1624d06",
   "metadata": {},
   "source": [
    "## [GeoViews](https://geoviews.org/)"
   ]
  },
  {
   "cell_type": "code",
   "execution_count": null,
   "id": "a0d0c361-1d0d-450d-8b8a-dac409e39c6b",
   "metadata": {},
   "outputs": [],
   "source": [
    "import geoviews as gv\n",
    "gv.extension('bokeh')\n",
    "from geoviews import opts"
   ]
  },
  {
   "cell_type": "markdown",
   "id": "bfbf16f2-603c-452c-92a7-353bc1defa2b",
   "metadata": {},
   "source": [
    "### Displaying a basemap"
   ]
  },
  {
   "cell_type": "markdown",
   "id": "996d639a-9a78-46df-a9a5-713bdfb3f86c",
   "metadata": {},
   "source": [
    "- Principal utility is `gv.tile_sources`\n",
    "- Use the method `opts` to specify optional settings\n",
    "- Bokeh menu at right enables interactive exploration"
   ]
  },
  {
   "cell_type": "code",
   "execution_count": null,
   "id": "f9f7d9b4-b36b-4817-baed-86d1015674a5",
   "metadata": {},
   "outputs": [],
   "source": [
    "basemap = gv.tile_sources.OSM.opts(width=600, height=400)\n",
    "basemap"
   ]
  },
  {
   "cell_type": "markdown",
   "id": "6b72e458-bc36-435c-9e2d-eea35a488e98",
   "metadata": {},
   "source": [
    "# Plotting points"
   ]
  },
  {
   "cell_type": "code",
   "execution_count": null,
   "id": "2f29cdb2-6d5a-421c-97c8-f42f77071547",
   "metadata": {},
   "outputs": [],
   "source": [
    "tokyo_lonlat = (139.692222, 35.689722)\n",
    "print(tokyo_lonlat)"
   ]
  },
  {
   "cell_type": "markdown",
   "id": "e46295af-3c9a-485a-a3db-0e758b8da8e5",
   "metadata": {},
   "source": [
    "+ `geoviews.Points` accepts a list of tuples (each of the form `(x, y)`) to plot.\n",
    "+ Use the OpenStreetMap tiles from `gv.tile_sources.OSM` as a basemap.\n",
    "+ Overlay using the Holoviews operator `*`\n",
    "+ Define the options using `geoviews.opts`\n",
    "+ ? find a way to initialize the zoom level sensibly?"
   ]
  },
  {
   "cell_type": "code",
   "execution_count": null,
   "id": "4b9e52c1-431f-431e-8063-0c8d84ea65a4",
   "metadata": {},
   "outputs": [],
   "source": [
    "tokyo_point   = gv.Points([tokyo_lonlat])\n",
    "point_opts = opts.Points(\n",
    "                          size=48,\n",
    "                          alpha=0.5,\n",
    "                          color='red'\n",
    "                        )"
   ]
  },
  {
   "cell_type": "code",
   "execution_count": null,
   "id": "c877fea2-af86-41a8-bc44-44fa928371b2",
   "metadata": {},
   "outputs": [],
   "source": [
    "# Use Holoviews * operator to overlay plot on basemap\n",
    "# Note: zoom out to see basemap (starts zoomed \"all the way in\")\n",
    "(basemap * tokyo_point).opts(point_opts)"
   ]
  },
  {
   "cell_type": "code",
   "execution_count": null,
   "id": "f746de23-906c-4f28-968e-9d1cc9bead21",
   "metadata": {},
   "outputs": [],
   "source": [
    "# to avoid starting zoomed all the way in, this zooms \"all the way out\"\n",
    "(basemap * tokyo_point).opts(point_opts, opts.Overlay(global_extent=True))"
   ]
  },
  {
   "cell_type": "markdown",
   "id": "8bf470eb-2706-47ae-b919-f736842d2492",
   "metadata": {},
   "source": [
    "## Plotting rectangles"
   ]
  },
  {
   "cell_type": "markdown",
   "id": "92cabf2a-9a7f-4623-b1f3-16a2fff01eaf",
   "metadata": {},
   "source": [
    "+ Standard way to represent rectangle with corners\n",
    "  $$(x_{\\mathrm{min}},y_{\\mathrm{min}}), (x_{\\mathrm{min}},y_{\\mathrm{max}}), (x_{\\mathrm{max}},y_{\\mathrm{min}}), (x_{\\mathrm{max}},y_{\\mathrm{max}})$$\n",
    "  (assuming $x_{\\mathrm{max}}>x_{\\mathrm{min}}$ & $y_{\\mathrm{max}}>y_{\\mathrm{min}}$) is as a single 4-tuple\n",
    "  $$(x_{\\mathrm{min}},y_{\\mathrm{min}},x_{\\mathrm{max}},y_{\\mathrm{max}}),$$\n",
    "  i.e., the lower,left corner coordinates followed by the upper, right corner coordinates."
   ]
  },
  {
   "cell_type": "code",
   "execution_count": null,
   "id": "02bac9aa-f828-4a2b-8617-b3b45ef15fbc",
   "metadata": {},
   "outputs": [],
   "source": [
    "# simple utility to make a rectangle of \"half-width\" dx & \"half-height\" dy & centred pt\n",
    "def bounds(pt,dx,dy):\n",
    "    '''Returns rectangle represented as tuple (x_lo, y_lo, x_hi, y_hi)\n",
    "    given inputs pt=(x, y), half-width & half-height dx & dy respectively,\n",
    "    where x_lo = x-dx, x_hi=x+dx, y_lo = y-dy, y_hi = y+dy.\n",
    "    '''\n",
    "    return tuple(coord+sgn*delta for sgn in (-1,+1) for coord,delta in zip(pt, (dx,dy)))"
   ]
  },
  {
   "cell_type": "code",
   "execution_count": null,
   "id": "c9d70232-045f-4def-a12e-e31a4c265017",
   "metadata": {},
   "outputs": [],
   "source": [
    "# Verify that the function bounds works as intended\n",
    "marrakesh_lonlat = (-7.93, 31.67)\n",
    "dlon, dlat = 0.25, 0.25\n",
    "marrakesh_rect = bounds(marrakesh_lonlat, dlon, dlat)\n",
    "print(marrakesh_rect)"
   ]
  },
  {
   "cell_type": "markdown",
   "id": "7c0398aa-d3a1-4b98-9b65-a6a3ceb12ec1",
   "metadata": {},
   "source": [
    "+ `geoviews.Rectangles` accepts a list of bounding boxes (each described by a tuple of the form `(x_min, y_min, x_max, y_max)`) to plot."
   ]
  },
  {
   "cell_type": "code",
   "execution_count": null,
   "id": "db789799-e63c-4f56-8888-72655225837d",
   "metadata": {},
   "outputs": [],
   "source": [
    "rect_opts = opts.Rectangles(\n",
    "                                line_width=0,\n",
    "                                alpha=0.25,\n",
    "                                color='red'\n",
    "                            )"
   ]
  },
  {
   "cell_type": "code",
   "execution_count": null,
   "id": "3bc934e7-dfc5-471d-836e-4c643234d9ea",
   "metadata": {},
   "outputs": [],
   "source": [
    "rectangle = gv.Rectangles([marrakesh_rect])\n",
    "(basemap * rectangle).opts( rect_opts )"
   ]
  },
  {
   "cell_type": "markdown",
   "id": "bd4537cd-cee6-4359-bb60-837024f655bb",
   "metadata": {},
   "source": [
    "We'll use the approach above to visualize *Areas of Interest (AOIs)* when constructing search queries for NASA EarthData products. In particular, the convention of representing a bounding box by (left, lower, right, upper) ordinates is also used in the [PySTAC](https://pystac.readthedocs.io/en/stable/) API.\n",
    "\n",
    "---"
   ]
  },
  {
   "cell_type": "markdown",
   "id": "3ff7f16a-34a0-4602-8aee-9efeb109c14a",
   "metadata": {},
   "source": [
    "## [hvPlot](https://hvplot.holoviz.org/)"
   ]
  },
  {
   "cell_type": "markdown",
   "id": "fa919cce-6ecc-4142-ba6d-e17e27451e4e",
   "metadata": {},
   "source": [
    "+ [hvPlot](https://hvplot.holoviz.org/) is designed to extend the `.plot` API from Pandas DataFrames\n",
    "+ The code below generates a Pandas DataFrame of simulated oceanographic data. \n",
    "\n",
    "- hvplot.pandas.DataFrame.line\n",
    "- xarray.dataarray.hvplot.quadmesh\n",
    "- xarray.dataarray.hvplot.image"
   ]
  },
  {
   "cell_type": "markdown",
   "id": "cfc6e309-98da-4932-b90c-2680af6f91a8",
   "metadata": {},
   "source": [
    "To include:\n",
    "\n",
    "+ Example of `pandas.DataFrame.plot.line`\n",
    "+ Example of `pandas.DataFrame.hvplot.line`\n",
    "+ Example of `xarray.Dataarray.hvplot.quadmesh`"
   ]
  },
  {
   "cell_type": "code",
   "execution_count": null,
   "id": "cd67342c-c573-42dc-9aeb-28674b147529",
   "metadata": {},
   "outputs": [],
   "source": [
    "import pandas as pd, numpy as np\n",
    "# Create DataFrame\n",
    "data = {\n",
    "    'Time': pd.date_range('2024-01-01', periods=10, freq='M'),\n",
    "    'Temperature (°C)': np.random.uniform(0, 30, 10),\n",
    "    'Salinity (ppt)': np.random.uniform(30, 40, 10),\n",
    "    'Chlorophyll (mg/m³)': np.random.uniform(0, 5, 10)\n",
    "}\n",
    "df = pd.DataFrame(data)\n",
    "df.set_index('Time', inplace=True)"
   ]
  },
  {
   "cell_type": "code",
   "execution_count": null,
   "id": "60739d7d-f28c-40a4-9da2-63cc72818328",
   "metadata": {},
   "outputs": [],
   "source": [
    "df.head()"
   ]
  },
  {
   "cell_type": "markdown",
   "id": "a607ef86-6176-4bc8-9287-afa07faa8b2b",
   "metadata": {},
   "source": [
    "The Pandas DataFrame `.plot` API provides access to a number of plotteing methods. Here, we'll use `.plot.line`, but a range of other options are available (e.g., `.plot.area`, `.plot.bar`, `.plot.hist`, `.plot.scatter`, etc.). This API has been repeated in several libraries due to its convenience."
   ]
  },
  {
   "cell_type": "code",
   "execution_count": null,
   "id": "9d675b14-67eb-4264-abef-16d6abf823a3",
   "metadata": {
    "scrolled": true
   },
   "outputs": [],
   "source": [
    "# Generates a static Matplotlib plot by default\n",
    "df.plot. line();"
   ]
  },
  {
   "cell_type": "markdown",
   "id": "9d19b6f4-b05c-4740-be81-fed01fe5a560",
   "metadata": {},
   "source": [
    "By importing `hvplot.pandas`, a similar interactive plot can be generated. The API for `.hvplot` mimics that for `.plot`. For instance, we can generate the line plot above using `.hvplot.line`. In this case, the default plotting backend is Bokeh, so the plot is *interactive*."
   ]
  },
  {
   "cell_type": "code",
   "execution_count": null,
   "id": "c22a4c89-c207-45bb-be62-8dd47cd0cb54",
   "metadata": {},
   "outputs": [],
   "source": [
    "import hvplot.pandas\n",
    "import hvplot.xarray\n",
    "df.hvplot.line()"
   ]
  },
  {
   "cell_type": "markdown",
   "id": "20b2b655-937f-44c6-b299-22947573f161",
   "metadata": {},
   "source": [
    "As usual with Pandas, it is possible to select out portions of the DataFrame as Series; the `.hvplot` API still works."
   ]
  },
  {
   "cell_type": "code",
   "execution_count": null,
   "id": "7ead2bc0-6cf0-48ec-b79a-e571aaabe3a2",
   "metadata": {},
   "outputs": [],
   "source": [
    "df['Temperature (°C)'].hvplot.line()"
   ]
  },
  {
   "cell_type": "code",
   "execution_count": null,
   "id": "e471c4e7-9146-4210-bfab-966a3b0f1a56",
   "metadata": {},
   "outputs": [],
   "source": []
  },
  {
   "cell_type": "code",
   "execution_count": null,
   "id": "42d868f1-8774-4f8e-9a01-eb526cc16a02",
   "metadata": {},
   "outputs": [],
   "source": []
  }
 ],
 "metadata": {
  "kernelspec": {
   "display_name": "Python 3 (ipykernel)",
   "language": "python",
   "name": "python3"
  },
  "language_info": {
   "codemirror_mode": {
    "name": "ipython",
    "version": 3
   },
   "file_extension": ".py",
   "mimetype": "text/x-python",
   "name": "python",
   "nbconvert_exporter": "python",
   "pygments_lexer": "ipython3",
   "version": "3.12.4"
  }
 },
 "nbformat": 4,
 "nbformat_minor": 5
}
