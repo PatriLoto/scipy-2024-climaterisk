{
 "cells": [
  {
   "cell_type": "markdown",
   "id": "e1a34870-e670-4bf0-b0a4-0586928ad171",
   "metadata": {},
   "source": [
    "# Data Visualization"
   ]
  },
  {
   "cell_type": "markdown",
   "id": "9151aa33-f2be-4d05-9169-1fe3e354c80f",
   "metadata": {
    "jupyter": {
     "source_hidden": true
    }
   },
   "source": [
    "The primary tools we'll use for plotting come from the [Holoviz](https://holoviz.org/) family of Python libraries, principally [GeoViews](https://geoviews.org/) and [hvPlot](https://hvplot.holoviz.org/). These are largely built on top of [HoloViews](https://holoviews.org/) and support multiple backends for rendering plots (notably [Bokeh](http://bokeh.pydata.org/) for interactive visualization and [Matplotlib](http://matplotlib.org/) for static, publication-quality plots)."
   ]
  },
  {
   "cell_type": "markdown",
   "id": "39894937-15c0-4268-9428-6167a1624d06",
   "metadata": {},
   "source": [
    "## [GeoViews](https://geoviews.org/)"
   ]
  },
  {
   "cell_type": "markdown",
   "id": "a880a8f9-ff3d-404a-b449-a4040dec85fc",
   "metadata": {
    "jupyter": {
     "source_hidden": true
    }
   },
   "source": [
    "From the [GeoViews documentation](https://geoviews.org/index.html):\n",
    "\n",
    "> GeoViews is a [Python](http://python.org/) library that makes it easy to explore and visualize geographical, meteorological, and oceanographic datasets, such as those used in weather, climate, and remote sensing research.\n",
    ">\n",
    "> GeoViews is built on the [HoloViews](http://holoviews.org/) library for building flexible visualizations of multidimensional data. GeoViews adds a family of geographic plot types based on the [Cartopy](http://scitools.org.uk/cartopy) library, plotted using either the [Matplotlib](http://matplotlib.org/) or [Bokeh](http://bokeh.pydata.org/) packages. With GeoViews, you can now work easily and naturally with large, multidimensional geographic datasets, instantly visualizing any subset or combination of them, while always being able to access the raw data underlying any plot."
   ]
  },
  {
   "cell_type": "code",
   "execution_count": null,
   "id": "a0d0c361-1d0d-450d-8b8a-dac409e39c6b",
   "metadata": {
    "jupyter": {
     "source_hidden": true
    }
   },
   "outputs": [],
   "source": [
    "import warnings\n",
    "warnings.filterwarnings('ignore')\n",
    "from pathlib import Path\n",
    "\n",
    "import geoviews as gv\n",
    "gv.extension('bokeh')\n",
    "from geoviews import opts"
   ]
  },
  {
   "cell_type": "markdown",
   "id": "bfbf16f2-603c-452c-92a7-353bc1defa2b",
   "metadata": {},
   "source": [
    "### Displaying a basemap"
   ]
  },
  {
   "cell_type": "markdown",
   "id": "996d639a-9a78-46df-a9a5-713bdfb3f86c",
   "metadata": {
    "jupyter": {
     "source_hidden": true
    }
   },
   "source": [
    "- Principal utility is `gv.tile_sources`\n",
    "- Use the method `opts` to specify optional settings\n",
    "- Bokeh menu at right enables interactive exploration"
   ]
  },
  {
   "cell_type": "code",
   "execution_count": null,
   "id": "f9f7d9b4-b36b-4817-baed-86d1015674a5",
   "metadata": {
    "jupyter": {
     "source_hidden": true
    }
   },
   "outputs": [],
   "source": [
    "basemap = gv.tile_sources.OSM.opts(width=600, height=400)\n",
    "basemap"
   ]
  },
  {
   "cell_type": "markdown",
   "id": "6b72e458-bc36-435c-9e2d-eea35a488e98",
   "metadata": {},
   "source": [
    "### Plotting points"
   ]
  },
  {
   "cell_type": "code",
   "execution_count": null,
   "id": "2f29cdb2-6d5a-421c-97c8-f42f77071547",
   "metadata": {
    "jupyter": {
     "source_hidden": true
    }
   },
   "outputs": [],
   "source": [
    "tokyo_lonlat = (139.692222, 35.689722)\n",
    "print(tokyo_lonlat)"
   ]
  },
  {
   "cell_type": "markdown",
   "id": "e46295af-3c9a-485a-a3db-0e758b8da8e5",
   "metadata": {
    "jupyter": {
     "source_hidden": true
    }
   },
   "source": [
    "+ `geoviews.Points` accepts a list of tuples (each of the form `(x, y)`) to plot.\n",
    "+ Use the OpenStreetMap tiles from `gv.tile_sources.OSM` as a basemap.\n",
    "+ Overlay using the Holoviews operator `*`\n",
    "+ Define the options using `geoviews.opts`\n",
    "+ ? find a way to initialize the zoom level sensibly?"
   ]
  },
  {
   "cell_type": "code",
   "execution_count": null,
   "id": "4b9e52c1-431f-431e-8063-0c8d84ea65a4",
   "metadata": {
    "jupyter": {
     "source_hidden": true
    }
   },
   "outputs": [],
   "source": [
    "tokyo_point   = gv.Points([tokyo_lonlat])\n",
    "point_opts = opts.Points(\n",
    "                          size=48,\n",
    "                          alpha=0.5,\n",
    "                          color='red'\n",
    "                        )"
   ]
  },
  {
   "cell_type": "code",
   "execution_count": null,
   "id": "c877fea2-af86-41a8-bc44-44fa928371b2",
   "metadata": {
    "jupyter": {
     "source_hidden": true
    }
   },
   "outputs": [],
   "source": [
    "# Use Holoviews * operator to overlay plot on basemap\n",
    "# Note: zoom out to see basemap (starts zoomed \"all the way in\")\n",
    "(basemap * tokyo_point).opts(point_opts)"
   ]
  },
  {
   "cell_type": "code",
   "execution_count": null,
   "id": "f746de23-906c-4f28-968e-9d1cc9bead21",
   "metadata": {
    "jupyter": {
     "source_hidden": true
    }
   },
   "outputs": [],
   "source": [
    "# to avoid starting zoomed all the way in, this zooms \"all the way out\"\n",
    "(basemap * tokyo_point).opts(point_opts, opts.Overlay(global_extent=True))"
   ]
  },
  {
   "cell_type": "markdown",
   "id": "8bf470eb-2706-47ae-b919-f736842d2492",
   "metadata": {},
   "source": [
    "### Plotting rectangles"
   ]
  },
  {
   "cell_type": "markdown",
   "id": "92cabf2a-9a7f-4623-b1f3-16a2fff01eaf",
   "metadata": {
    "jupyter": {
     "source_hidden": true
    }
   },
   "source": [
    "+ Standard way to represent rectangle with corners\n",
    "  $$(x_{\\mathrm{min}},y_{\\mathrm{min}}), (x_{\\mathrm{min}},y_{\\mathrm{max}}), (x_{\\mathrm{max}},y_{\\mathrm{min}}), (x_{\\mathrm{max}},y_{\\mathrm{max}})$$\n",
    "  (assuming $x_{\\mathrm{max}}>x_{\\mathrm{min}}$ & $y_{\\mathrm{max}}>y_{\\mathrm{min}}$) is as a single 4-tuple\n",
    "  $$(x_{\\mathrm{min}},y_{\\mathrm{min}},x_{\\mathrm{max}},y_{\\mathrm{max}}),$$\n",
    "  i.e., the lower,left corner coordinates followed by the upper, right corner coordinates."
   ]
  },
  {
   "cell_type": "code",
   "execution_count": null,
   "id": "02bac9aa-f828-4a2b-8617-b3b45ef15fbc",
   "metadata": {
    "jupyter": {
     "source_hidden": true
    }
   },
   "outputs": [],
   "source": [
    "# simple utility to make a rectangle of \"half-width\" dx & \"half-height\" dy & centred pt\n",
    "def bounds(pt,dx,dy):\n",
    "    '''Returns rectangle represented as tuple (x_lo, y_lo, x_hi, y_hi)\n",
    "    given inputs pt=(x, y), half-width & half-height dx & dy respectively,\n",
    "    where x_lo = x-dx, x_hi=x+dx, y_lo = y-dy, y_hi = y+dy.\n",
    "    '''\n",
    "    return tuple(coord+sgn*delta for sgn in (-1,+1) for coord,delta in zip(pt, (dx,dy)))"
   ]
  },
  {
   "cell_type": "code",
   "execution_count": null,
   "id": "c9d70232-045f-4def-a12e-e31a4c265017",
   "metadata": {
    "jupyter": {
     "source_hidden": true
    }
   },
   "outputs": [],
   "source": [
    "# Verify that the function bounds works as intended\n",
    "marrakesh_lonlat = (-7.93, 31.67)\n",
    "dlon, dlat = 0.25, 0.25\n",
    "marrakesh_rect = bounds(marrakesh_lonlat, dlon, dlat)\n",
    "print(marrakesh_rect)"
   ]
  },
  {
   "cell_type": "markdown",
   "id": "7c0398aa-d3a1-4b98-9b65-a6a3ceb12ec1",
   "metadata": {},
   "source": [
    "+ `geoviews.Rectangles` accepts a list of bounding boxes (each described by a tuple of the form `(x_min, y_min, x_max, y_max)`) to plot."
   ]
  },
  {
   "cell_type": "code",
   "execution_count": null,
   "id": "db789799-e63c-4f56-8888-72655225837d",
   "metadata": {
    "jupyter": {
     "source_hidden": true
    }
   },
   "outputs": [],
   "source": [
    "rect_opts = opts.Rectangles(\n",
    "                                line_width=0,\n",
    "                                alpha=0.25,\n",
    "                                color='red'\n",
    "                            )"
   ]
  },
  {
   "cell_type": "code",
   "execution_count": null,
   "id": "3bc934e7-dfc5-471d-836e-4c643234d9ea",
   "metadata": {
    "jupyter": {
     "source_hidden": true
    }
   },
   "outputs": [],
   "source": [
    "rectangle = gv.Rectangles([marrakesh_rect])\n",
    "(basemap * rectangle).opts( rect_opts )"
   ]
  },
  {
   "cell_type": "markdown",
   "id": "bd4537cd-cee6-4359-bb60-837024f655bb",
   "metadata": {
    "jupyter": {
     "source_hidden": true
    }
   },
   "source": [
    "We'll use the approach above to visualize *Areas of Interest (AOIs)* when constructing search queries for NASA EarthData products. In particular, the convention of representing a bounding box by (left, lower, right, upper) ordinates is also used in the [PySTAC](https://pystac.readthedocs.io/en/stable/) API.\n",
    "\n",
    "---"
   ]
  },
  {
   "cell_type": "markdown",
   "id": "3ff7f16a-34a0-4602-8aee-9efeb109c14a",
   "metadata": {},
   "source": [
    "## [hvPlot](https://hvplot.holoviz.org/)"
   ]
  },
  {
   "cell_type": "markdown",
   "id": "02a520bc-c145-40be-b939-668c13ececfd",
   "metadata": {
    "jupyter": {
     "source_hidden": true
    }
   },
   "source": [
    "+ [hvPlot](https://hvplot.holoviz.org/) is designed to extend the `.plot` API from Pandas DataFrames.\n",
    "+ It works for Pandas DataFrames and Xarray DataArrays/Datasets."
   ]
  },
  {
   "cell_type": "markdown",
   "id": "b05e3807-b3c7-4c3e-a65a-ec79941cf177",
   "metadata": {},
   "source": [
    "### hvplot.pandas"
   ]
  },
  {
   "cell_type": "markdown",
   "id": "2f81241e-2633-4169-b12f-91877c906ed7",
   "metadata": {},
   "source": [
    "The code below loads a Pandas DataFrame of tempereature data."
   ]
  },
  {
   "cell_type": "code",
   "execution_count": null,
   "id": "45a7e7de-41c5-4de5-be06-dfb04c5febe7",
   "metadata": {
    "jupyter": {
     "source_hidden": true
    }
   },
   "outputs": [],
   "source": [
    "import pandas as pd, numpy as np\n",
    "from pathlib import Path\n",
    "LOCAL_PATH = Path().cwd() / '..' / 'assets' / 'temperature.csv'"
   ]
  },
  {
   "cell_type": "code",
   "execution_count": null,
   "id": "7ae93e1d-fef1-49dc-a990-0048be5107d5",
   "metadata": {
    "jupyter": {
     "source_hidden": true
    },
    "scrolled": true
   },
   "outputs": [],
   "source": [
    "df = pd.read_csv(LOCAL_PATH, index_col=0, parse_dates=[0])\n",
    "df.head()"
   ]
  },
  {
   "attachments": {},
   "cell_type": "markdown",
   "id": "a16456ef-d6bf-4089-8a51-dcbae23cd43c",
   "metadata": {},
   "source": [
    "Let's extract a subset of columns from this DataFrame and generate a plot."
   ]
  },
  {
   "cell_type": "code",
   "execution_count": null,
   "id": "44db60b6-f8a7-4254-9504-a066c6cc0ce0",
   "metadata": {
    "jupyter": {
     "source_hidden": true
    }
   },
   "outputs": [],
   "source": [
    "west_coast = df[['Vancouver', 'Portland', 'San Francisco', 'Seattle', 'Los Angeles']]\n",
    "west_coast.head()"
   ]
  },
  {
   "cell_type": "markdown",
   "id": "8ea81db1-75ee-4240-9eda-6b9695a6a67c",
   "metadata": {},
   "source": [
    "The Pandas DataFrame `.plot` API provides access to a number of plotting methods. Here, we'll use `.plot.line`, but a range of other options are available (e.g., `.plot.area`, `.plot.bar`, `.plot.hist`, `.plot.scatter`, etc.). This API has been repeated in several libraries due to its convenience."
   ]
  },
  {
   "cell_type": "code",
   "execution_count": null,
   "id": "953b8066-58be-4e5d-855f-c5b35e7f689d",
   "metadata": {},
   "outputs": [],
   "source": [
    "west_coast.plot.line();"
   ]
  },
  {
   "cell_type": "markdown",
   "id": "9d19b6f4-b05c-4740-be81-fed01fe5a560",
   "metadata": {
    "jupyter": {
     "source_hidden": true
    }
   },
   "source": [
    "By importing `hvplot.pandas`, a similar interactive plot can be generated. The API for `.hvplot` mimics that for `.plot`. For instance, we can generate the line plot above using `.hvplot.line`. In this case, the default plotting backend is Bokeh, so the plot is *interactive*."
   ]
  },
  {
   "cell_type": "code",
   "execution_count": null,
   "id": "c22a4c89-c207-45bb-be62-8dd47cd0cb54",
   "metadata": {
    "jupyter": {
     "source_hidden": true
    }
   },
   "outputs": [],
   "source": [
    "import hvplot.pandas\n",
    "west_coast.hvplot.line()"
   ]
  },
  {
   "cell_type": "markdown",
   "id": "20b2b655-937f-44c6-b299-22947573f161",
   "metadata": {},
   "source": [
    "It is possible to modify the plot to make it cleaner."
   ]
  },
  {
   "cell_type": "code",
   "execution_count": null,
   "id": "7ead2bc0-6cf0-48ec-b79a-e571aaabe3a2",
   "metadata": {
    "jupyter": {
     "source_hidden": true
    }
   },
   "outputs": [],
   "source": [
    "west_coast.hvplot.line(width=600, height=300, grid=True)"
   ]
  },
  {
   "cell_type": "markdown",
   "id": "7038142a-1d8d-46ef-a672-7292f7cb741f",
   "metadata": {},
   "source": [
    "The `hvplot` API also works when chained together with other DataFrame method calls. For instance, we can resample the temperature data and compute a mean to smooth it out."
   ]
  },
  {
   "cell_type": "code",
   "execution_count": null,
   "id": "e471c4e7-9146-4210-bfab-966a3b0f1a56",
   "metadata": {},
   "outputs": [],
   "source": [
    "smoothed = west_coast.resample('2d').mean()\n",
    "smoothed.hvplot.line(width=600, height=300, grid=True)"
   ]
  },
  {
   "cell_type": "markdown",
   "id": "98031438-238b-4963-8583-5d8ff07c0176",
   "metadata": {},
   "source": [
    "### hvplot.xarray"
   ]
  },
  {
   "cell_type": "markdown",
   "id": "b4353a2a-35bb-459f-9a4e-23098c40b33a",
   "metadata": {},
   "source": [
    "The Pandas `.plot` API was also extended to Xarray, i.e., for Xarray `DataArray`."
   ]
  },
  {
   "cell_type": "code",
   "execution_count": null,
   "id": "461e657a-a584-4263-8477-3d052a027328",
   "metadata": {
    "jupyter": {
     "source_hidden": true
    }
   },
   "outputs": [],
   "source": [
    "import xarray as xr\n",
    "import hvplot.xarray\n",
    "import rioxarray as rio"
   ]
  },
  {
   "cell_type": "markdown",
   "id": "5600618f-206c-481a-a105-70e562580dea",
   "metadata": {},
   "source": [
    "To start, load a local GeoTIFF file using `rioxarray` into an Zarray `DataArray` structure."
   ]
  },
  {
   "cell_type": "code",
   "execution_count": null,
   "id": "423586df-e4c1-4a31-967c-8fc8e94c72cc",
   "metadata": {},
   "outputs": [],
   "source": [
    "LOCAL_PATH = Path('..') / 'assets' / 'OPERA_L3_DIST-ALERT-HLS_T10TEM_20220815T185931Z_20220817T153514Z_S2A_30_v0.1_VEG-ANOM-MAX.tif'"
   ]
  },
  {
   "cell_type": "code",
   "execution_count": null,
   "id": "7eb7ab1c-a2c2-4e35-aadb-3d1d3059de26",
   "metadata": {
    "jupyter": {
     "source_hidden": true
    }
   },
   "outputs": [],
   "source": [
    "data = rio.open_rasterio(LOCAL_PATH)\n",
    "data"
   ]
  },
  {
   "cell_type": "markdown",
   "id": "f79c6fd6-df44-42f0-9e49-e26a29f71e04",
   "metadata": {},
   "source": [
    "We do some minor reformatting to the `DataArray`."
   ]
  },
  {
   "cell_type": "code",
   "execution_count": null,
   "id": "be8e2cf3-cb79-458d-8230-2a1fb2b4f0d6",
   "metadata": {
    "jupyter": {
     "source_hidden": true
    }
   },
   "outputs": [],
   "source": [
    "data = data.squeeze() # to reduce 3D array with singleton dimension to 2D array\n",
    "data = data.rename({'x':'easting', 'y':'northing'})\n",
    "data"
   ]
  },
  {
   "cell_type": "markdown",
   "id": "c9cfbb06-9ec7-4835-8992-90d18ace947a",
   "metadata": {},
   "source": [
    "The `.plot` API by default uses Matplotlib's `pcolormesh` to display a 2D array stored within a `DataArray`. This takes a little time to render for this moderately high-resolution image."
   ]
  },
  {
   "cell_type": "code",
   "execution_count": null,
   "id": "02377608-d259-4bc7-81f1-1f9327aeaf51",
   "metadata": {
    "jupyter": {
     "source_hidden": true
    }
   },
   "outputs": [],
   "source": [
    "data.plot(); # by default, uses pcolormesh"
   ]
  },
  {
   "cell_type": "markdown",
   "id": "68645f9c-b59b-445a-8013-a9f2c3c9eb74",
   "metadata": {},
   "source": [
    "Again, the `.hvplot` API mimics the `.plot` API; by default, it uses a subclass derived from `holoviews.element.raster.Image`."
   ]
  },
  {
   "cell_type": "code",
   "execution_count": null,
   "id": "7ab41ec2-0351-431f-ab37-3ecbbe6c323e",
   "metadata": {
    "jupyter": {
     "source_hidden": true
    }
   },
   "outputs": [],
   "source": [
    "plot = data.hvplot() # by default uses Image class\n",
    "print(f'{type(plot)=}')\n",
    "plot"
   ]
  },
  {
   "cell_type": "markdown",
   "id": "6bc04498-e354-4a25-9f06-333a2f358791",
   "metadata": {
    "jupyter": {
     "source_hidden": true
    }
   },
   "source": [
    "+ The result above is an interactive plot, rendered using Bokeh.\n",
    "+ It still needs cleaning up; notice the axes are transposed.\n",
    "\n",
    "We can add some options to speed up rendering. We also make the call to `hvplot.image` explicit & specify the sequence of axes."
   ]
  },
  {
   "cell_type": "code",
   "execution_count": null,
   "id": "c399f6d1-4e62-40fb-ad4b-43b25c3d4752",
   "metadata": {},
   "outputs": [],
   "source": [
    "image_opts = dict(rasterize=True, dynamic=True)"
   ]
  },
  {
   "cell_type": "code",
   "execution_count": null,
   "id": "83116f95-82fd-4598-9314-c0318c9e308b",
   "metadata": {
    "jupyter": {
     "source_hidden": true
    }
   },
   "outputs": [],
   "source": [
    "plot = data.hvplot.image(x='easting', y='northing', **image_opts)\n",
    "plot"
   ]
  },
  {
   "cell_type": "markdown",
   "id": "6dc570f6-a117-449d-8b7a-3c32fcd20802",
   "metadata": {},
   "source": [
    "Let's add options to fix the image size."
   ]
  },
  {
   "cell_type": "code",
   "execution_count": null,
   "id": "27ca0550-db95-499f-8040-b88487e35944",
   "metadata": {
    "jupyter": {
     "source_hidden": true
    }
   },
   "outputs": [],
   "source": [
    "image_opts.update(frame_width=500, frame_height=500, aspect='equal')\n",
    "\n",
    "plot = data.hvplot.image(x='easting', y='northing', **image_opts)\n",
    "plot"
   ]
  },
  {
   "cell_type": "markdown",
   "id": "bbbdd8af-33bf-41b3-9d68-139f11efbc83",
   "metadata": {},
   "source": [
    "Next, let's change the image colormap and use transparency (`alpha`)."
   ]
  },
  {
   "cell_type": "code",
   "execution_count": null,
   "id": "e098d908-2248-4328-bc32-097b13429535",
   "metadata": {
    "jupyter": {
     "source_hidden": true
    }
   },
   "outputs": [],
   "source": [
    "image_opts.update( cmap='hot_r', clim=(0,100), alpha=0.8 )\n",
    "plot = data.hvplot.image(x='easting', y='northing', **image_opts)\n",
    "plot"
   ]
  },
  {
   "cell_type": "markdown",
   "id": "16f9b0c2-5ce4-4ddf-a2c0-11a55997d587",
   "metadata": {},
   "source": [
    "Before adding a basemap, we need to account for the coordinate system. This is stored in the GeoTIFF file and, when read using `rioxarray.open_rasterio`, it is is preserved in the attribute `data.rio.crs`."
   ]
  },
  {
   "cell_type": "code",
   "execution_count": null,
   "id": "67d5d8a5-d584-43c9-807d-03d50ac54ed6",
   "metadata": {
    "jupyter": {
     "source_hidden": true
    }
   },
   "outputs": [],
   "source": [
    "crs = data.rio.crs\n",
    "crs"
   ]
  },
  {
   "cell_type": "markdown",
   "id": "cc00a5f3-9b83-4175-9ab7-4056405538f5",
   "metadata": {},
   "source": [
    "We can use the CRS recovered above as an optional argument to `hvplot.image`. Notice the coordinates have changed on the axes, but the labels are wrong. We can fix that shortly."
   ]
  },
  {
   "cell_type": "code",
   "execution_count": null,
   "id": "9dc1cc05-543a-42e3-86a7-9bebc0ae8630",
   "metadata": {
    "jupyter": {
     "source_hidden": true
    }
   },
   "outputs": [],
   "source": [
    "image_opts.update(crs=crs)\n",
    "\n",
    "plot = data.hvplot.image(x='easting', y='northing', **image_opts)\n",
    "plot"
   ]
  },
  {
   "cell_type": "markdown",
   "id": "e9b68f42-cfcd-45e0-b908-4e72a7cdc24c",
   "metadata": {},
   "source": [
    "Let's now fix the labels. We'll use the Holoviews/GeoViews `opts` system to specify these options."
   ]
  },
  {
   "cell_type": "code",
   "execution_count": null,
   "id": "3b8d2ec6-b32c-49dd-a83a-84351833aa14",
   "metadata": {
    "jupyter": {
     "source_hidden": true
    }
   },
   "outputs": [],
   "source": [
    "label_opts = dict(title='VEG_ANOM_MAX', xlabel='Longitude (degrees)', ylabel='Latitude (degrees)')\n",
    "plot = data.hvplot.image(x='easting', y='northing', **image_opts).opts(**label_opts)\n",
    "plot"
   ]
  },
  {
   "cell_type": "markdown",
   "id": "6d7ca167-f3f4-45dc-b0ed-de3f57a06fc7",
   "metadata": {},
   "source": [
    "Let's overlay the image on a basemap so we can see the terrain underneath."
   ]
  },
  {
   "cell_type": "code",
   "execution_count": null,
   "id": "df4673b8-4266-40d1-8144-ae0c907b2785",
   "metadata": {
    "jupyter": {
     "source_hidden": true
    }
   },
   "outputs": [],
   "source": [
    "base = gv.tile_sources.ESRI\n",
    "base * plot"
   ]
  },
  {
   "cell_type": "markdown",
   "id": "7c211a43-eb57-4ea7-b456-309e38cd0ae1",
   "metadata": {},
   "source": [
    "Finally, the white pixels are distracting; let's filter them out using the `DataArray` method `where`."
   ]
  },
  {
   "cell_type": "code",
   "execution_count": null,
   "id": "e93ab6c6-a39a-4f95-939f-b359ee85773c",
   "metadata": {},
   "outputs": [],
   "source": [
    "plot = data.where(data>0).hvplot.image(x='easting', y='northing', **image_opts).opts(**label_opts)\n",
    "plot * base"
   ]
  }
 ],
 "metadata": {
  "kernelspec": {
   "display_name": "Python 3 (ipykernel)",
   "language": "python",
   "name": "python3"
  },
  "language_info": {
   "codemirror_mode": {
    "name": "ipython",
    "version": 3
   },
   "file_extension": ".py",
   "mimetype": "text/x-python",
   "name": "python",
   "nbconvert_exporter": "python",
   "pygments_lexer": "ipython3",
   "version": "3.12.4"
  }
 },
 "nbformat": 4,
 "nbformat_minor": 5
}
