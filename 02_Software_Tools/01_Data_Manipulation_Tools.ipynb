{
 "cells": [
  {
   "cell_type": "markdown",
   "id": "0ae3193c-dfa1-42a5-af44-ea710310af40",
   "metadata": {},
   "source": [
    "# Data Manipulation Tools"
   ]
  },
  {
   "cell_type": "markdown",
   "id": "d9a6e0d3-81f5-4d47-b33a-98ee3cd52eda",
   "metadata": {
    "jupyter": {
     "source_hidden": true
    }
   },
   "source": [
    "In this tutorial, we'll make use of a number of Python libraries to work with geospatial data. There are numerous ways to work with data and so choosing tooling can be difficult. The principal library we'll be using is [*Xarray*](https://docs.xarray.dev/en/stable/index.html) for its `DataArray` and `Dataset` data structures and associated utilities as well as [NumPy]() and [Pandas]() for manipulating homogeneous numerical arrays and tabular data respectively. We'll also look a bit make use of [Rasterio]() as a tool for reading data or meta-data from GeoTIFF files; judicious use of Rasterio can make a big difference when working with remote files in the cloud."
   ]
  },
  {
   "cell_type": "code",
   "execution_count": null,
   "id": "4f3c0647-0364-4eec-81c2-1b6b43d319ba",
   "metadata": {
    "jupyter": {
     "source_hidden": true
    }
   },
   "outputs": [],
   "source": [
    "from warnings import filterwarnings\n",
    "filterwarnings('ignore')\n",
    "\n",
    "from pathlib import Path\n",
    "import xarray as xr\n",
    "import numpy as np\n",
    "import pandas as pd\n",
    "import rioxarray as rio\n",
    "import rasterio"
   ]
  },
  {
   "cell_type": "markdown",
   "id": "ed486a5c-2698-4bcb-b8cb-8a067d86e534",
   "metadata": {},
   "source": [
    "## [rioxarray](https://corteva.github.io/rioxarray/html/index.html)"
   ]
  },
  {
   "cell_type": "markdown",
   "id": "6ac01b0b-2026-4e07-9139-8309276ffbf2",
   "metadata": {
    "jupyter": {
     "source_hidden": true
    }
   },
   "source": [
    "+ `rioxarray` is a package to *extend* Xarray\n",
    "+ Primary use within this tutorial:\n",
    "  + `rioxarray.open_rasterio` enables loading GeoTIFF files directly into Xarray `DataArray` structures\n",
    "  + `xarray.DataArray.rio` extension provides useful utilities (e.g., for specifying CRS information)"
   ]
  },
  {
   "cell_type": "markdown",
   "id": "6ec2fca9-4849-4924-947c-a50190cf5842",
   "metadata": {
    "jupyter": {
     "source_hidden": true
    }
   },
   "source": [
    "Observe first that `open_rasterio` works on local file paths and remote URLs.\n",
    "+ Predictably, local access is faster than remote access."
   ]
  },
  {
   "cell_type": "code",
   "execution_count": null,
   "id": "2559c619-0dc7-4af5-a32c-3dde50915487",
   "metadata": {
    "jupyter": {
     "source_hidden": true
    }
   },
   "outputs": [],
   "source": [
    "%%time\n",
    "LOCAL_PATH = Path('..') / 'assets' / 'OPERA_L3_DIST-ALERT-HLS_T10TEM_20220815T185931Z_20220817T153514Z_S2A_30_v0.1_VEG-ANOM-MAX.tif'\n",
    "da = rio.open_rasterio(LOCAL_PATH)"
   ]
  },
  {
   "cell_type": "code",
   "execution_count": null,
   "id": "d9a0aa03-9b86-477e-a24c-9c97e6cbb2c7",
   "metadata": {
    "jupyter": {
     "source_hidden": true
    }
   },
   "outputs": [],
   "source": [
    "%%time\n",
    "REMOTE_URL ='https://opera-provisional-products.s3.us-west-2.amazonaws.com/DIST/DIST_HLS/WG/DIST-ALERT/McKinney_Wildfire/OPERA_L3_DIST-ALERT-HLS_T10TEM_20220815T185931Z_20220817T153514Z_S2A_30_v0.1/OPERA_L3_DIST-ALERT-HLS_T10TEM_20220815T185931Z_20220817T153514Z_S2A_30_v0.1_VEG-ANOM-MAX.tif'\n",
    "da_remote = rio.open_rasterio(REMOTE_URL)"
   ]
  },
  {
   "cell_type": "code",
   "execution_count": null,
   "id": "09cbb17c-ab98-4692-acb6-b35909a07c3f",
   "metadata": {},
   "outputs": [],
   "source": [
    "(da_remote == da).all() # Verify that the data is identical from both sources"
   ]
  },
  {
   "cell_type": "markdown",
   "id": "7abb0b22-9bac-4b64-a2f6-3c5d765797b2",
   "metadata": {},
   "source": [
    "## [Xarray](https://docs.xarray.dev/en/stable/index.html)"
   ]
  },
  {
   "cell_type": "markdown",
   "id": "35e5e97f-63d8-44ba-95c9-fda243c83045",
   "metadata": {
    "jupyter": {
     "source_hidden": true
    }
   },
   "source": [
    "Let's examine the data structure loaded from the file `LOCAL_PATH`.\n",
    "\n",
    "Observe, in this notebook, the `repr` for an Xarray `DataArray` can be interactively examined."
   ]
  },
  {
   "cell_type": "code",
   "execution_count": null,
   "id": "405d9e97-fc4b-4464-802f-5ae852f749db",
   "metadata": {
    "jupyter": {
     "source_hidden": true
    }
   },
   "outputs": [],
   "source": [
    "print(f'{type(da)=}\\n')\n",
    "da"
   ]
  },
  {
   "cell_type": "markdown",
   "id": "648eb8be-1d71-4941-a31e-e644338694b0",
   "metadata": {},
   "source": [
    "Of course, it is also possible to access various `DataArray` attributes programmatically."
   ]
  },
  {
   "cell_type": "code",
   "execution_count": null,
   "id": "d686d55c-e444-48b3-8e98-d8430e08dba3",
   "metadata": {},
   "outputs": [],
   "source": [
    "print(da.coords)"
   ]
  },
  {
   "cell_type": "markdown",
   "id": "e861abca-c83f-41a2-8b21-b325fb62b42d",
   "metadata": {},
   "source": [
    "We can extract the coordinates as one-dimensional (homogeneous) NumPy arrays."
   ]
  },
  {
   "cell_type": "code",
   "execution_count": null,
   "id": "6e07951b-0d1c-42df-bbad-27168298c8ad",
   "metadata": {},
   "outputs": [],
   "source": [
    "print(da.coords['x'].values)"
   ]
  },
  {
   "cell_type": "markdown",
   "id": "7224aa52-4a6f-42a9-9dcf-90ef4f7d9810",
   "metadata": {},
   "source": [
    "The dimensions `da.dims` are the strings/labels associated with the `DataArray` axes."
   ]
  },
  {
   "cell_type": "code",
   "execution_count": null,
   "id": "251f05de-77b9-455f-b37e-b16b664f81d5",
   "metadata": {},
   "outputs": [],
   "source": [
    "da.dims"
   ]
  },
  {
   "cell_type": "markdown",
   "id": "ade83390-7d55-47ab-9423-3aa0340479d6",
   "metadata": {},
   "source": [
    "`data.attrs` is a dictionary containing other meta-data parsed from the GeoTIFF tags."
   ]
  },
  {
   "cell_type": "code",
   "execution_count": null,
   "id": "32c959e4-cdb9-4bde-94c6-92b1ec6b9d24",
   "metadata": {},
   "outputs": [],
   "source": [
    "da.attrs"
   ]
  },
  {
   "cell_type": "markdown",
   "id": "29184968-65c0-4780-a029-54019a037971",
   "metadata": {
    "jupyter": {
     "source_hidden": true
    }
   },
   "source": [
    "As mentioned, `rioxarray` extends the class `xarray.DataArray` with the `rio` accessor. For our purposes, an important attribute retrievable from this namespace is `da.rio.crs`, the coordinate refernce system associated with this raster dataset."
   ]
  },
  {
   "cell_type": "code",
   "execution_count": null,
   "id": "c2899327-1368-4d01-a48e-30d3c3e69941",
   "metadata": {},
   "outputs": [],
   "source": [
    "da.rio.crs"
   ]
  },
  {
   "cell_type": "markdown",
   "id": "a755f990-5770-48c7-a22a-c73871fd615e",
   "metadata": {
    "jupyter": {
     "source_hidden": true
    }
   },
   "source": [
    "Given that this data is stored using a particular UTM CRS, let's relabel the coordinates to reflect this; that is, the coordinate labelled `x` would conventionally be called `easting` and the coordinate called `y` would be called `northing`."
   ]
  },
  {
   "cell_type": "code",
   "execution_count": null,
   "id": "bcbc0398-6e84-4ece-8734-eee73cd54b83",
   "metadata": {},
   "outputs": [],
   "source": [
    "da = da.rename({'x':'easting', 'y':'northing', 'band':'band'})"
   ]
  },
  {
   "cell_type": "markdown",
   "id": "35ec864d-afe0-4e05-bcd6-9ef534684338",
   "metadata": {
    "jupyter": {
     "source_hidden": true
    }
   },
   "source": [
    "Recall Xarray permits slicing using coordinate values or their corresponding integer positions using the `sel` and `isel` accessors respectively."
   ]
  },
  {
   "cell_type": "code",
   "execution_count": null,
   "id": "914a62a1-aae6-47e7-9db3-74a5e499ec2a",
   "metadata": {},
   "outputs": [],
   "source": [
    "da.isel(easting=slice(0,2))"
   ]
  },
  {
   "cell_type": "code",
   "execution_count": null,
   "id": "16480c17-68e8-4562-9457-dad5e155eff2",
   "metadata": {},
   "outputs": [],
   "source": [
    "da.sel(easting=[499995, 500025])"
   ]
  },
  {
   "cell_type": "markdown",
   "id": "7a724aaf-ea46-4570-90e4-9487c5c3a882",
   "metadata": {
    "jupyter": {
     "source_hidden": true
    }
   },
   "source": [
    "If we take a 2D slice from this 3D `DataArray`, we can plot it using the `.plot` accessor (more on this later)."
   ]
  },
  {
   "cell_type": "code",
   "execution_count": null,
   "id": "27d4f8f0-8671-4960-b3a6-36f97ed36fad",
   "metadata": {},
   "outputs": [],
   "source": [
    "da.isel(band=0).plot();"
   ]
  },
  {
   "cell_type": "markdown",
   "id": "a375661e-9432-41f0-941f-c116a3ebbaa7",
   "metadata": {},
   "source": [
    "Finally, recall that a `DataArray` is a wrapper around a NumPy array. That NumPy array can be retrieved using the `.values` attribute."
   ]
  },
  {
   "cell_type": "code",
   "execution_count": null,
   "id": "96533b20-04ad-4312-9528-ab6dc0dfaf20",
   "metadata": {
    "jupyter": {
     "source_hidden": true
    }
   },
   "outputs": [],
   "source": [
    "array = da.values\n",
    "print(f'{type(array)=}')\n",
    "print(f'{array.shape=}')\n",
    "print(f'{array.dtype=}')\n",
    "print(f'{array.nbytes=}')"
   ]
  },
  {
   "cell_type": "markdown",
   "id": "893573a4-84c7-46de-88e3-9810a4efed1e",
   "metadata": {
    "jupyter": {
     "source_hidden": true
    }
   },
   "source": [
    "This raster data is stored as 8-bit unsigned integer data, so one byte for each pixel. A single unsigned 8-bit integer can represent integer values between 0 and 255. In an array with a bit more than thirteen million elements, that means there are many repeated values."
   ]
  },
  {
   "cell_type": "code",
   "execution_count": null,
   "id": "6b7da652-1b25-4cee-83fd-cb93f3af6930",
   "metadata": {
    "jupyter": {
     "source_hidden": true
    }
   },
   "outputs": [],
   "source": [
    "s_flat = pd.Series(array.flatten()).value_counts()\n",
    "s_flat"
   ]
  },
  {
   "cell_type": "markdown",
   "id": "68b81f42-1031-45b7-a982-9eb01946fbf1",
   "metadata": {
    "jupyter": {
     "source_hidden": true
    }
   },
   "source": [
    "Most of the entries in this raster array are zero. The numerical values vary between 0 and 100 with the exception of some 1709 pixels with the value 255. This will make more sense when we discuss the DIST data product specification."
   ]
  },
  {
   "cell_type": "markdown",
   "id": "18b1d9ba-c0c5-405d-b483-5c23126e6599",
   "metadata": {},
   "source": [
    "## [rasterio](https://rasterio.readthedocs.io/en/stable)"
   ]
  },
  {
   "attachments": {},
   "cell_type": "markdown",
   "id": "8a02a486-e9fd-4624-b186-7cb0988e45b4",
   "metadata": {
    "jupyter": {
     "source_hidden": true
    }
   },
   "source": [
    "Having reviewed some features of Xarray (and of its extension `rioxarray`), let's briefly look at `rasterio` as a means of exploring GeoTIFF files.\n",
    "\n",
    "From the [Rasterio documentation](https://rasterio.readthedocs.io/en/stable):\n",
    "\n",
    "> Before Rasterio there was one Python option for accessing the many different kind of raster data files used in the GIS field: the Python bindings distributed with the [Geospatial Data Abstraction Library, GDAL](http://gdal.org/). These bindings extend Python, but provide little abstraction for GDAL’s C API. This means that Python programs using them tend to read and run like C programs. For example, GDAL’s Python bindings require users to watch out for dangling C pointers, potential crashers of programs. This is bad: among other considerations we’ve chosen Python instead of C to avoid problems with pointers.\n",
    ">\n",
    ">What would it be like to have a geospatial data abstraction in the Python standard library? One that used modern Python language features and idioms? One that freed users from concern about dangling pointers and other C programming pitfalls? Rasterio’s goal is to be this kind of raster data library – expressing GDAL’s data model using fewer non-idiomatic extension classes and more idiomatic Python types and protocols, while performing as fast as GDAL’s Python bindings.\n",
    ">\n",
    ">High performance, lower cognitive load, cleaner and more transparent code. This is what Rasterio is about."
   ]
  },
  {
   "cell_type": "code",
   "execution_count": null,
   "id": "f6320dba-77eb-4126-891b-e6136929e5a8",
   "metadata": {
    "jupyter": {
     "source_hidden": true
    }
   },
   "outputs": [],
   "source": [
    "# Show rasterio.open works using context manager\n",
    "import rasterio\n",
    "from pathlib import Path\n",
    "LOCAL_PATH = Path('..') / 'assets' / \\\n",
    "             'OPERA_L3_DIST-ALERT-HLS_T10TEM_20220815T185931Z_20220817T153514Z_S2A_30_v0.1_VEG-ANOM-MAX.tif'\n",
    "print(LOCAL_PATH)"
   ]
  },
  {
   "cell_type": "markdown",
   "id": "2a285aae-4c1e-44a9-a141-06e97315793a",
   "metadata": {
    "jupyter": {
     "source_hidden": true
    }
   },
   "source": [
    "Given a data source (e.g., a GeoTIFF file in the current context), we can open a `DatasetReader` object associated with using `rasterio.open`. Technically, we have to remember to close the object afterward. That is, our code would look like this:\n",
    "\n",
    "```python\n",
    "ds = rasterio.open(LOCAL_PATH)\n",
    "..\n",
    "# do some computation\n",
    "...\n",
    "ds.close()\n",
    "```\n",
    "\n",
    "As with file-handling in Python, we can use a *context manager* (i.e., a `with` clause) instead.\n",
    "```python\n",
    "with rasterio.open(LOCAL_PATH) as ds:\n",
    "  ...\n",
    "  # do some computation\n",
    "  ...\n",
    "\n",
    "# more code outside the scope of the with block.\n",
    "```\n",
    "The dataset will be closed automatically outseide the `with` block."
   ]
  },
  {
   "cell_type": "code",
   "execution_count": null,
   "id": "83dd400a-fc73-4e7d-85ad-9e05272b2ab0",
   "metadata": {
    "jupyter": {
     "source_hidden": true
    }
   },
   "outputs": [],
   "source": [
    "with rasterio.open(LOCAL_PATH) as ds:\n",
    "    print(f'{type(ds)=}')\n",
    "    assert not ds.closed\n",
    "\n",
    "# outside the scope of the with block\n",
    "assert ds.closed"
   ]
  },
  {
   "cell_type": "markdown",
   "id": "7768834d-6f9c-43ad-a769-42ae9888d0b1",
   "metadata": {
    "jupyter": {
     "source_hidden": true
    }
   },
   "source": [
    "The `DatasetReader` class has a number of attributes and methods of interest to us:\n",
    "\n",
    " |  | | |\n",
    " |--|--|--|\n",
    " |`profile`|`height`|`width` |\n",
    " |`shape` |`count`|`nodata`|\n",
    " |`crs`|`transform`|`bounds`|\n",
    " |`xy`|`index`|`read` |\n",
    "\n",
    "First, given a `DatasetReader` `ds` associated with a data source, examining `ds.profile` returns some diagnostic information."
   ]
  },
  {
   "cell_type": "code",
   "execution_count": null,
   "id": "8fe2bf3c-f248-4252-98ef-3dfe40b0e20b",
   "metadata": {},
   "outputs": [],
   "source": [
    "with rasterio.open(LOCAL_PATH) as ds:\n",
    "    print(f'{ds.profile=}')"
   ]
  },
  {
   "cell_type": "markdown",
   "id": "c4d21e69-545c-4567-8fdc-2ea794780a34",
   "metadata": {
    "jupyter": {
     "source_hidden": true
    }
   },
   "source": [
    "The attributes `ds.height`, `ds.width`, `ds.shape`, `ds.count`, `ds.nodata`, and `ds.transform` are all included in the output from `ds.profile` but are also accessible individually."
   ]
  },
  {
   "cell_type": "code",
   "execution_count": null,
   "id": "52672743-2f3b-4323-bbb3-d5ada7144251",
   "metadata": {
    "jupyter": {
     "source_hidden": true
    }
   },
   "outputs": [],
   "source": [
    "with rasterio.open(LOCAL_PATH) as ds:\n",
    "    print(f'{ds.height=}')\n",
    "    print(f'{ds.width=}')\n",
    "    print(f'{ds.shape=}')\n",
    "    print(f'{ds.count=}')\n",
    "    print(f'{ds.nodata=}')\n",
    "    print(f'{ds.crs=}')\n",
    "    print(f'{ds.transform=}')"
   ]
  },
  {
   "attachments": {},
   "cell_type": "markdown",
   "id": "516a24d2-c901-4947-a9df-dca4083bd41d",
   "metadata": {
    "jupyter": {
     "source_hidden": true
    }
   },
   "source": [
    "Part of the motivation for using `rioxarray` is to simplify the loading of GeoTIFF files into Xarray structures while taking care of these coordinate mappings for us. If needed, `rasterio` provides access to the details.\n",
    "\n",
    "![](http://ioam.github.io/topographica/_images/matrix_coords.png)\n",
    "![](http://ioam.github.io/topographica/_images/sheet_coords_-0.2_0.4.png)\n",
    "(from `http://ioam.github.io/topographica`)\n",
    "\n",
    "Notice that the absolute values of the diagonal entries of the matrix `ds.transform` give the spatial dimensions of pixels."
   ]
  },
  {
   "cell_type": "code",
   "execution_count": null,
   "id": "c5ade377-712f-4fae-9b19-2acea33e56a4",
   "metadata": {
    "jupyter": {
     "source_hidden": true
    }
   },
   "outputs": [],
   "source": [
    "with rasterio.open(LOCAL_PATH) as ds:\n",
    "    print(f'{ds.transform=}')\n",
    "    print(f'{np.abs(ds.transform[0])=}')\n",
    "    print(f'{np.abs(ds.transform[4])=}')"
   ]
  },
  {
   "cell_type": "code",
   "execution_count": null,
   "id": "fb86880b-6b50-442b-8209-29af023565b4",
   "metadata": {
    "jupyter": {
     "source_hidden": true
    }
   },
   "outputs": [],
   "source": [
    "with rasterio.open(LOCAL_PATH) as ds:\n",
    "    print(f'{ds.transform * (0,0)=}')       # top-left pixel\n",
    "    print(f'{ds.transform * (0,3660)=}')    # bottom-left pixel\n",
    "    print(f'{ds.transform * (3660,0)=}')    # top-right pixel\n",
    "    print(f'{ds.transform * (3660,3660)=}') # bottom-right pixel"
   ]
  },
  {
   "cell_type": "code",
   "execution_count": null,
   "id": "9ecd7211-3c8a-43f3-9a7a-9566b6a59c94",
   "metadata": {
    "jupyter": {
     "source_hidden": true
    }
   },
   "outputs": [],
   "source": [
    "with rasterio.open(LOCAL_PATH) as ds:\n",
    "    print(f'coordinate bounds: {ds.bounds=}')"
   ]
  },
  {
   "cell_type": "markdown",
   "id": "8cc60506-dd77-4d91-a2fa-d3aac25996a9",
   "metadata": {},
   "source": [
    "The method `ds.xy` converts integer index coordinates to continuous coordinates. Notice that `ds.xy` maps integers to the centre of pixels."
   ]
  },
  {
   "cell_type": "code",
   "execution_count": null,
   "id": "575b437f-1bbb-4aff-a609-3139efc27184",
   "metadata": {
    "jupyter": {
     "source_hidden": true
    }
   },
   "outputs": [],
   "source": [
    "with rasterio.open(LOCAL_PATH) as ds:\n",
    "    for k in range(3):\n",
    "        for l in range(4):\n",
    "            print(f'({k:2d},{l:2d})','\\t', end='')\n",
    "        print()\n",
    "    print()\n",
    "    for k in range(3):\n",
    "        for l in range(4):\n",
    "            e,n = ds.xy(k,l)\n",
    "            print(f'({e},{n})','\\t', end='')\n",
    "        print()\n",
    "    print()\n",
    "    print(ds.bounds)\n",
    "    print(ds.transform)\n",
    "    print(ds.transform * (0.5,0.5))\n",
    "    print(ds.transform * (0,0))\n",
    "    print(ds.transform[0])"
   ]
  },
  {
   "cell_type": "markdown",
   "id": "5185fc7d-3446-4560-9982-150df9cf9c33",
   "metadata": {},
   "source": [
    "`ds.index` does the reverse: given spatial coordinates `(x,y)`, it returns the integer indices of the pixel that contains that point."
   ]
  },
  {
   "cell_type": "code",
   "execution_count": null,
   "id": "6a178a51-b914-4305-9f79-5c602b257852",
   "metadata": {
    "jupyter": {
     "source_hidden": true
    }
   },
   "outputs": [],
   "source": [
    "with rasterio.open(LOCAL_PATH) as ds:\n",
    "    print(ds.index(500000, 4700015))"
   ]
  },
  {
   "cell_type": "markdown",
   "id": "16051e5a-fb5e-4977-9f77-32bd87864eba",
   "metadata": {},
   "source": [
    "Finally, the method `ds.read` loads an array from the data file into memory. Notice this can be done on local or remote files."
   ]
  },
  {
   "cell_type": "code",
   "execution_count": null,
   "id": "b523a8cf-f702-4d38-9906-d3fb6ccd8b33",
   "metadata": {
    "jupyter": {
     "source_hidden": true
    }
   },
   "outputs": [],
   "source": [
    "%%time\n",
    "with rasterio.open(LOCAL_PATH) as ds:\n",
    "    array = ds.read()\n",
    "    print(f'{array.shape=}')"
   ]
  },
  {
   "cell_type": "code",
   "execution_count": null,
   "id": "974c4235-8f93-415e-8f70-7416a152033b",
   "metadata": {
    "jupyter": {
     "source_hidden": true
    }
   },
   "outputs": [],
   "source": [
    "%%time\n",
    "with rasterio.open(REMOTE_URL) as ds:\n",
    "    array = ds.read()\n",
    "    print(f'{array.shape=}')"
   ]
  },
  {
   "cell_type": "markdown",
   "id": "c8dad4a4-b3b1-41dc-b3fc-4fc0ef240cd0",
   "metadata": {},
   "source": [
    "These tools are used in some of the casse studies that follow."
   ]
  }
 ],
 "metadata": {
  "kernelspec": {
   "display_name": "Python 3 (ipykernel)",
   "language": "python",
   "name": "python3"
  },
  "language_info": {
   "codemirror_mode": {
    "name": "ipython",
    "version": 3
   },
   "file_extension": ".py",
   "mimetype": "text/x-python",
   "name": "python",
   "nbconvert_exporter": "python",
   "pygments_lexer": "ipython3",
   "version": "3.12.3"
  }
 },
 "nbformat": 4,
 "nbformat_minor": 5
}
