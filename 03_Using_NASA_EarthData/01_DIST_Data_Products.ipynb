{
 "cells": [
  {
   "cell_type": "markdown",
   "id": "8444a873",
   "metadata": {},
   "source": [
    "# Getting Started with OPERA DIST Product\n",
    "---\n",
    "\n",
    "**This notebook serves as an introduction to the OPERA Land Surface Disturbance (DIST) product and visualizing relevant raster layers for wildfire applications.**\n",
    "\n",
    "<font color='red'> Download the provisional data at https://www.jpl.nasa.gov/go/opera/products/dist-product-suite </font>"
   ]
  },
  {
   "cell_type": "code",
   "execution_count": null,
   "id": "01505ba8",
   "metadata": {},
   "outputs": [],
   "source": [
    "# Notebook dependencies\n",
    "import warnings\n",
    "warnings.filterwarnings('ignore')\n",
    "from pathlib import Path\n",
    "\n",
    "import xarray as xr\n",
    "import numpy as np\n",
    "import rioxarray as rio\n",
    "\n",
    "import hvplot.xarray\n",
    "from matplotlib.colors import ListedColormap\n",
    "from bokeh.models import FixedTicker\n",
    "import geoviews as gv\n",
    "gv.extension('bokeh')"
   ]
  },
  {
   "cell_type": "markdown",
   "id": "f0ef71e2",
   "metadata": {},
   "source": [
    "\n",
    "\n",
    "### Product Background\n",
    "---\n",
    "\n",
    "The DIST product maps per pixel vegetation disturbance (specifically, vegetation cover loss) from the Harmonized Landsat-8 and Sentinel-2 A/B (HLS) scenes. Vegetation disturbance is mapped when there is an indicated decrease in vegetation cover within an HLS pixel. This notebook focuses on relevant layers within the **DIST_ALERT** product for wildfire applications, which is released at the cadence of HLS imagery. "
   ]
  },
  {
   "cell_type": "markdown",
   "id": "c0a4a5a2",
   "metadata": {},
   "source": [
    "\n",
    "\n",
    "### Metadata\n",
    "---\n",
    "\n",
    "HLS products provide surface reflectance (SR) data from the Operational Land Imager (OLI) aboard the Landsat-8 remote sensing satellite and the Multi-Spectral Instrument (MSI) aboard the Sentinel-2 A/B remote sensing satellite. HLS products are distributed over projected map coordinates aligned with the Military Grid Reference System (MGRS). Each tile covers 109.8 kilometers squared divided into 3660 rows and 3660 columns at 30 meter pixel spacing. Each tile overlaps neighbors by 4900 meters in each direction."
   ]
  },
  {
   "cell_type": "markdown",
   "id": "f92637c8",
   "metadata": {},
   "source": [
    "\n",
    "\n",
    "### Raster Layers\n",
    "___\n",
    "\n",
    "The **DIST_ALERT** product is distributed as a set of Cloud-Optimized GeoTIFF (COG) files to enable download of only particular layers of interest to a given user. All L3 DIST layers are stored in files following GeoTIFF format specifications.\n",
    "\n",
    "___"
   ]
  },
  {
   "cell_type": "code",
   "execution_count": null,
   "id": "423586df-e4c1-4a31-967c-8fc8e94c72cc",
   "metadata": {},
   "outputs": [],
   "source": [
    "LOCAL_PATH = Path('..') / 'assets' / 'OPERA_L3_DIST-ALERT-HLS_T10TEM_20220815T185931Z_20220817T153514Z_S2A_30_v0.1_VEG-ANOM-MAX.tif'"
   ]
  },
  {
   "cell_type": "code",
   "execution_count": null,
   "id": "7eb7ab1c-a2c2-4e35-aadb-3d1d3059de26",
   "metadata": {},
   "outputs": [],
   "source": [
    "data = rio.open_rasterio(LOCAL_PATH)\n",
    "data"
   ]
  },
  {
   "cell_type": "code",
   "execution_count": null,
   "id": "67d5d8a5-d584-43c9-807d-03d50ac54ed6",
   "metadata": {},
   "outputs": [],
   "source": [
    "crs = data.rio.crs\n",
    "crs"
   ]
  },
  {
   "cell_type": "code",
   "execution_count": null,
   "id": "35816792-3594-4e81-ac64-46e5abae34ef",
   "metadata": {},
   "outputs": [],
   "source": [
    "dist = data.rename({'x':'longitude', 'y':'latitude', 'band':'band'}).squeeze()\n",
    "dist"
   ]
  },
  {
   "cell_type": "code",
   "execution_count": null,
   "id": "83aba7f8-a4d3-43e1-802e-ee62bdcf8047",
   "metadata": {},
   "outputs": [],
   "source": [
    "# Creates basemap\n",
    "base = gv.tile_sources.EsriTerrain.opts(width=1000, height=1000, padding=0.1)"
   ]
  },
  {
   "cell_type": "markdown",
   "id": "57fbc929",
   "metadata": {},
   "source": [
    "## **Band 1: Maximum Vegetation Anomaly Value (VEG_ANOM_MAX)**\n",
    "***\n",
    "\n",
    "**Data Type:** UInt8<br>\n",
    "**Description:** Difference between historical and current year observed vegetation cover at the date of maximum decrease, measured on scale from 0-100%<br>"
   ]
  },
  {
   "cell_type": "code",
   "execution_count": null,
   "id": "186400ce",
   "metadata": {},
   "outputs": [],
   "source": [
    "base = gv.tile_sources.EsriNatGeo.opts(width=1000, height=1000, padding=0.1)\n",
    "veg_anom_max = dist\n",
    "veg_anom_max.hvplot.image(\n",
    "                          x='longitude', \n",
    "                          y='latitude', \n",
    "                          crs=crs, \n",
    "                          rasterize=True, \n",
    "                          dynamic=True, \n",
    "                          aspect='equal', \n",
    "                          frame_width=500, \n",
    "                          frame_height=500, \n",
    "                          cmap='hot_r', \n",
    "                          clim=(0,100), alpha=0.8).opts(title=f\"VEG_ANOM_MAX\", xlabel='Longitude', ylabel='Latitude') * base"
   ]
  },
  {
   "cell_type": "markdown",
   "id": "bbde0c7f",
   "metadata": {},
   "source": [
    "## **Band 2: Date of Initial Vegetation Disturbance (VEG_DIST_DATE)**\n",
    "***\n",
    "\n",
    "**Data Type:** Int16<br>\n",
    "**Description:** Day of first loss anomaly detection in the last year, denoted as the number of days since December 31st, 2020.<br>"
   ]
  },
  {
   "cell_type": "code",
   "execution_count": null,
   "id": "177f2e4d-b3e4-495e-8444-4d5d60161f5f",
   "metadata": {},
   "outputs": [],
   "source": [
    "LOCAL_PATH = Path('..') / 'assets' / 'OPERA_L3_DIST-ALERT-HLS_T10TEM_20220815T185931Z_20220817T153514Z_S2A_30_v0.1_VEG-DIST-DATE.tif'"
   ]
  },
  {
   "cell_type": "code",
   "execution_count": null,
   "id": "401bf081-2861-41fe-a48a-d0fa90baaf04",
   "metadata": {},
   "outputs": [],
   "source": [
    "data = rio.open_rasterio(LOCAL_PATH)\n",
    "crs = data.rio.crs\n",
    "veg_dist_date = data.rename({'x':'longitude', 'y':'latitude', 'band':'band'}).squeeze()"
   ]
  },
  {
   "cell_type": "code",
   "execution_count": null,
   "id": "05b64128",
   "metadata": {},
   "outputs": [],
   "source": [
    "veg_dist_date.hvplot.image(x='longitude', \n",
    "                           y='latitude', \n",
    "                           crs=crs, \n",
    "                           rasterize=True, \n",
    "                           dynamic=True, \n",
    "                           aspect='equal', \n",
    "                           frame_width=500, \n",
    "                           frame_height=500, \n",
    "                           cmap='hot_r', \n",
    "                           alpha=0.8).opts(title=f\"VEG_DIST_DATE\", xlabel='Longitude', ylabel='Latitude',clim=(0, 592)) * base\n"
   ]
  },
  {
   "cell_type": "markdown",
   "id": "2b6c8690",
   "metadata": {},
   "source": [
    "## **Band 3: Vegetation Disturbance Status (VEG_DIST_STATUS)**\n",
    "***\n",
    "\n",
    "**Data Type:** UInt8<br>\n",
    "**Description:** Indication of vegetation cover loss (vegetation disturbance); \"provisional\" is used from the first detection until vegetation disturbance is detected for consecutive number of HLS scenes, when it is then labeled \"confirmed.\"<br>"
   ]
  },
  {
   "cell_type": "code",
   "execution_count": null,
   "id": "47f5ceec-8d5c-480a-89cf-4fb3c8b8dd6f",
   "metadata": {},
   "outputs": [],
   "source": [
    "LOCAL_PATH = Path('..') / 'assets' / 'OPERA_L3_DIST-ALERT-HLS_T10TEM_20220815T185931Z_20220817T153514Z_S2A_30_v0.1_VEG-DIST-STATUS.tif'"
   ]
  },
  {
   "cell_type": "code",
   "execution_count": null,
   "id": "d58b5a00-181b-4352-befa-c2c6cef9c4a3",
   "metadata": {},
   "outputs": [],
   "source": [
    "data = rio.open_rasterio(LOCAL_PATH)\n",
    "crs = data.rio.crs\n",
    "veg_dist_status = data.rename({'x':'longitude', 'y':'latitude', 'band':'band'}).squeeze()"
   ]
  },
  {
   "cell_type": "code",
   "execution_count": null,
   "id": "337fc6d6",
   "metadata": {},
   "outputs": [],
   "source": [
    "veg_dist_status.hvplot.image(x='longitude', \n",
    "                             y='latitude', \n",
    "                             crs=crs, \n",
    "                             rasterize=True, \n",
    "                             dynamic=True, \n",
    "                             aspect='equal', \n",
    "                             frame_width=500, \n",
    "                             frame_height=500, \n",
    "                             cmap='hot_r', \n",
    "                             alpha=0.8).opts(title=f\"VEG_DIST_STATUS\", clim=(0,4), colorbar_opts={'ticker': FixedTicker(ticks=[0, 1, 2, 3, 4])}, xlabel='Longitude', ylabel='Latitude') * base\n"
   ]
  },
  {
   "cell_type": "markdown",
   "id": "4c2316e6",
   "metadata": {},
   "source": [
    "**Layer Values:**<br> \n",
    "* **0:** No disturbance<br>\n",
    "* **1:** Provisional (**first detection**) Disturbance with vegetation cover change <50% <br>\n",
    "* **2:** Confirmed (**recurrent detection**) Disturbance with vegetation cover change < 50% <br> \n",
    "* **3:** Provisional Disturbance with vegetation cover change ≥ 50% <br>\n",
    "* **4:** Confirmed Disturbance with vegetation cover change ≥ 50%  <br> "
   ]
  }
 ],
 "metadata": {
  "kernelspec": {
   "display_name": "Python 3 (ipykernel)",
   "language": "python",
   "name": "python3"
  },
  "language_info": {
   "codemirror_mode": {
    "name": "ipython",
    "version": 3
   },
   "file_extension": ".py",
   "mimetype": "text/x-python",
   "name": "python",
   "nbconvert_exporter": "python",
   "pygments_lexer": "ipython3",
   "version": "3.12.4"
  }
 },
 "nbformat": 4,
 "nbformat_minor": 5
}
