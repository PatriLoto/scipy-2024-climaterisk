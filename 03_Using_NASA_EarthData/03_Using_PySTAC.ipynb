{
 "cells": [
  {
   "cell_type": "markdown",
   "id": "1f22b7de-35b6-451a-80e8-81f8edbfc724",
   "metadata": {},
   "source": [
    "# Using the PySTAC API"
   ]
  },
  {
   "cell_type": "markdown",
   "id": "bea8016e-e6c2-4cc8-a53f-191c00dc33d3",
   "metadata": {
    "jupyter": {
     "source_hidden": true
    }
   },
   "source": [
    "There is an abundance of data searchable through NASA's [Earthdata Search](https://search.earthdata.nasa.gov). These are examples of [SpatioTemporal Asset Catalogs (STAC)](https://stacspec.org/) in that data is typically associated with a specific *Area of Interest (AOI)* and a *time-window* or *range of dates*."
   ]
  },
  {
   "cell_type": "markdown",
   "id": "b6d78912-a7d8-4e7c-8ead-ef1e593f8706",
   "metadata": {
    "jupyter": {
     "source_hidden": true
    }
   },
   "source": [
    "For the sake of reproducibility, we want to search asset catalogs programmatically. This is where the [PySTAC](https://pystac.readthedocs.io/en/stable/) library comes in.\n",
    "\n",
    "---"
   ]
  },
  {
   "cell_type": "code",
   "execution_count": null,
   "id": "6357754b",
   "metadata": {
    "jupyter": {
     "source_hidden": true
    }
   },
   "outputs": [],
   "source": [
    "from warnings import filterwarnings\n",
    "filterwarnings('ignore')\n",
    "\n",
    "# data wrangling imports\n",
    "import numpy as np\n",
    "import pandas as pd\n",
    "import xarray as xr\n",
    "# STAC imports to retrieve cloud data\n",
    "from pprint import pprint\n",
    "from pystac_client import Client"
   ]
  },
  {
   "cell_type": "code",
   "execution_count": null,
   "id": "8b8d2fcb-bc4c-452a-bba5-1488cb409189",
   "metadata": {
    "jupyter": {
     "source_hidden": true
    }
   },
   "outputs": [],
   "source": [
    "# Imports for plotting\n",
    "import hvplot.pandas\n",
    "import geoviews as gv\n",
    "from geoviews import opts\n",
    "gv.extension('bokeh')"
   ]
  },
  {
   "cell_type": "markdown",
   "id": "6e487a01-6141-4129-b257-96be43f7afff",
   "metadata": {},
   "source": [
    "## Defining AOI & range of dates"
   ]
  },
  {
   "cell_type": "markdown",
   "id": "0f079069-1fde-46f9-8c29-c772b3ae225c",
   "metadata": {
    "jupyter": {
     "source_hidden": true
    }
   },
   "source": [
    "Heavy rains severely impacted Argentina in March 2024 [[1]](https://www.reuters.com/world/americas/argentina-downpour-drenches-crop-fields-flash-floods-buenos-aires-2024-03-12/). The event resulted in flash floods and impacted crop yields, severely impacting the Buenos Aires metropolitan area, and caused significant damage to property and human life. In this notebook, we'll set up a DataFrame to process results retrieved when searching relevant OPERA DSWx-HLS data catalogs."
   ]
  },
  {
   "cell_type": "code",
   "execution_count": null,
   "id": "45c5fabe",
   "metadata": {
    "jupyter": {
     "source_hidden": true
    }
   },
   "outputs": [],
   "source": [
    "# Define data search parameters\n",
    "\n",
    "# Define AOI as left, bottom, right and top lat/lon extent\n",
    "aoi = (-59.63818, -35.02927, -58.15723, -33.77271)\n",
    "# We will search data for the month of March 2024\n",
    "date_range = '2024-03-01/2024-03-31'"
   ]
  },
  {
   "cell_type": "markdown",
   "id": "ab78c17b-677b-40e1-8561-60fc0f5a3879",
   "metadata": {},
   "source": [
    "Make a quick visual check that the tuple `aoi` actually describes the geographic region around Buenos Aires."
   ]
  },
  {
   "cell_type": "code",
   "execution_count": null,
   "id": "cc3bb760-4601-424e-9d93-8f8bb4f35cd2",
   "metadata": {
    "jupyter": {
     "source_hidden": true
    }
   },
   "outputs": [],
   "source": [
    "basemap = gv.tile_sources.OSM\n",
    "rect = gv.Rectangles(aoi).opts(opts.Rectangles(alpha=0.25, color='cyan'))\n",
    "\n",
    "rect*basemap"
   ]
  },
  {
   "cell_type": "markdown",
   "id": "25ed9a6a-be58-43b2-bd72-ea71f8cec282",
   "metadata": {},
   "source": [
    "## Executing a search with the PySTAC API"
   ]
  },
  {
   "cell_type": "code",
   "execution_count": null,
   "id": "993c604a",
   "metadata": {
    "jupyter": {
     "source_hidden": true
    }
   },
   "outputs": [],
   "source": [
    "# We open a client instance to search for data, and retrieve relevant data records\n",
    "STAC_URL = 'https://cmr.earthdata.nasa.gov/stac'\n",
    "\n",
    "# Setup PySTAC client\n",
    "catalog = Client.open(f'{STAC_URL}/POCLOUD/')\n",
    "collections = [\"OPERA_L3_DSWX-HLS_V1\"]\n",
    "\n",
    "# We would like to search data using the search parameters defined above.\n",
    "opts = {\n",
    "    'bbox' : aoi, \n",
    "    'collections': collections,\n",
    "    'datetime' : date_range,\n",
    "}\n",
    "\n",
    "search = catalog.search(**opts)"
   ]
  },
  {
   "cell_type": "code",
   "execution_count": null,
   "id": "42dfd285-2113-41fc-9125-edfd6f43e47c",
   "metadata": {},
   "outputs": [],
   "source": [
    "print(f'{type(search)=}')"
   ]
  },
  {
   "cell_type": "code",
   "execution_count": null,
   "id": "439a5554",
   "metadata": {
    "jupyter": {
     "source_hidden": true
    }
   },
   "outputs": [],
   "source": [
    "results = list(search.items_as_dicts())\n",
    "print(f\"Number of tiles found intersecting given bounding box: {len(results)}\")"
   ]
  },
  {
   "cell_type": "markdown",
   "id": "f2538292",
   "metadata": {
    "jupyter": {
     "source_hidden": true
    }
   },
   "source": [
    "The object `results` retrieved from the search is a list of Python dictionaries (as suggested by the method name `items_as_dicts`). Let's parse the the first entry of `results`."
   ]
  },
  {
   "cell_type": "code",
   "execution_count": null,
   "id": "9d417308-81a8-4972-aceb-2f310658d0ce",
   "metadata": {
    "jupyter": {
     "source_hidden": true
    }
   },
   "outputs": [],
   "source": [
    "result = results[0]\n",
    "print(f'{type(result)=}')\n",
    "print(result.keys())"
   ]
  },
  {
   "cell_type": "markdown",
   "id": "aed3d182-80ae-4124-8728-ae022a3c9a3f",
   "metadata": {
    "jupyter": {
     "source_hidden": true
    }
   },
   "source": [
    "Each element of `results` is a dictionary that contains other other nested dictionaries. The Python utility `pprint.pprint` library helps us examine the structure of the search results."
   ]
  },
  {
   "cell_type": "code",
   "execution_count": null,
   "id": "dba59cbe-4fe6-4260-a602-41a89af7b388",
   "metadata": {
    "jupyter": {
     "source_hidden": true
    },
    "scrolled": true
   },
   "outputs": [],
   "source": [
    "pprint(result, compact=True, width=10, sort_dicts=False)"
   ]
  },
  {
   "cell_type": "markdown",
   "id": "566c2aa0-9f7c-4b68-ab69-ad09aa60512f",
   "metadata": {
    "jupyter": {
     "source_hidden": true
    }
   },
   "source": [
    "The particular values we want to pick out from `result` are:\n",
    "+ `result['properties']['datetime']` : timestamp associated with a particular granule; and\n",
    "+ `result['assets']['0_B01_WTR']['href']` : URI associated with a particular granule (pointing to a GeoTIFF file).\n",
    "\n",
    "```\n",
    "{...\n",
    " 'properties': {'eo:cloud_cover': 95,\n",
    "                'datetime': '2024-03-01T13:44:11.879Z',\n",
    "                'start_datetime': '2024-03-01T13:44:11.879Z',\n",
    "                'end_datetime': '2024-03-01T13:44:11.879Z'},\n",
    " 'assets': {'0_B01_WTR': {'href': 'https://archive.podaac.earthdata.nasa.gov/podaac-ops-cumulus-protected/OPERA_L3_DSWX-HLS_PROVISIONAL_V1/OPERA_L3_DSWx-HLS_T21HUC_20240301T134411Z_20240305T232837Z_L8_30_v1.0_B01_WTR.tif',\n",
    "                          'title': 'Download '\n",
    "                                   'OPERA_L3_DSWx-HLS_T21HUC_20240301T134411Z_20240305T232837Z_L8_30_v1.0_B01_WTR.tif'},\n",
    "            '0_B02_BWTR': ...\n",
    "            }\n",
    "\n",
    "```"
   ]
  },
  {
   "cell_type": "code",
   "execution_count": null,
   "id": "50171b7e",
   "metadata": {
    "jupyter": {
     "source_hidden": true
    }
   },
   "outputs": [],
   "source": [
    "# Look at specific values extracted from the 'properties' & 'assets' keys.\n",
    "print(result['properties']['datetime'])\n",
    "print(result['assets']['0_B01_WTR']['href'])"
   ]
  },
  {
   "cell_type": "markdown",
   "id": "cabb0264-e0c1-4e4b-b12d-38cfac4de5e5",
   "metadata": {},
   "source": [
    "## Summarizing search results in a DataFrame"
   ]
  },
  {
   "cell_type": "markdown",
   "id": "b0960755-1ed8-4940-91b5-768506a57fc2",
   "metadata": {},
   "source": [
    "Let's extract these particular fields into a Pandas DataFrame for convenience."
   ]
  },
  {
   "cell_type": "code",
   "execution_count": null,
   "id": "cad07c31",
   "metadata": {
    "jupyter": {
     "source_hidden": true
    }
   },
   "outputs": [],
   "source": [
    "times = pd.DatetimeIndex([result['properties']['datetime'] for result in results])\n",
    "hrefs = {'hrefs': [result['assets']['0_B01_WTR']['href'] for result in results]}"
   ]
  },
  {
   "cell_type": "code",
   "execution_count": null,
   "id": "fd1814ea",
   "metadata": {
    "jupyter": {
     "source_hidden": true
    }
   },
   "outputs": [],
   "source": [
    "# Construct Pandas DataFrame to summarize granules from search results\n",
    "granules = pd.DataFrame(index=times, data=hrefs)\n",
    "granules.index.name = 'times'"
   ]
  },
  {
   "cell_type": "code",
   "execution_count": null,
   "id": "191bbc07-49f5-4065-87fa-c1232e19c545",
   "metadata": {},
   "outputs": [],
   "source": [
    "granules"
   ]
  },
  {
   "cell_type": "code",
   "execution_count": null,
   "id": "3b863c36",
   "metadata": {},
   "outputs": [],
   "source": [
    "len(granules.index.unique()) / len(granules) # Notice the timestamps are not all unique, i.e., some are repeated"
   ]
  },
  {
   "cell_type": "code",
   "execution_count": null,
   "id": "b0331811",
   "metadata": {},
   "outputs": [],
   "source": [
    "len(granules.hrefs.unique()) / len(granules) # Make sure all the hrefs are unique"
   ]
  },
  {
   "cell_type": "markdown",
   "id": "2c137a7d",
   "metadata": {
    "jupyter": {
     "source_hidden": true
    }
   },
   "source": [
    "Let's get a sense of how many granules are available for each day of the month. Note, we don't know how many of these tiles contain cloud cover obscuring features of interest yet.\n",
    "\n",
    "The next few lines do some manipulations in Pandas of the DataFrame `granules` to yield a line plot showing what dates are associated with the most granules."
   ]
  },
  {
   "cell_type": "code",
   "execution_count": null,
   "id": "7c8adf8e",
   "metadata": {},
   "outputs": [],
   "source": [
    "granules_by_day = granules.resample('1d')  # Grouping by day, i.e., \"resampling\""
   ]
  },
  {
   "cell_type": "code",
   "execution_count": null,
   "id": "a588e4ee",
   "metadata": {},
   "outputs": [],
   "source": [
    "granule_counts = granules_by_day.count() # Aggregating counts"
   ]
  },
  {
   "cell_type": "code",
   "execution_count": null,
   "id": "4396d515",
   "metadata": {
    "jupyter": {
     "source_hidden": true
    }
   },
   "outputs": [],
   "source": [
    "# Ignore the days with no associated granules\n",
    "granule_counts = granule_counts[granule_counts.hrefs > 0]"
   ]
  },
  {
   "cell_type": "code",
   "execution_count": null,
   "id": "6e732256",
   "metadata": {
    "jupyter": {
     "source_hidden": true
    }
   },
   "outputs": [],
   "source": [
    "# Relabel the index & column of the DataFrame\n",
    "granule_counts.index.name = 'Day of Month'\n",
    "granule_counts.rename({'hrefs':'Granule count'}, inplace=True, axis=1)"
   ]
  },
  {
   "cell_type": "code",
   "execution_count": null,
   "id": "c52a2baa",
   "metadata": {
    "jupyter": {
     "source_hidden": true
    }
   },
   "outputs": [],
   "source": [
    "count_title = '# of DSWx-HLS granules available / day'\n",
    "granule_counts.hvplot.line(title=count_title, grid=True, frame_height=300, frame_width=600)"
   ]
  },
  {
   "cell_type": "markdown",
   "id": "9471d7ff-8462-4acf-b310-5522759c9aec",
   "metadata": {},
   "source": [
    "The floods primarily occurred between March 11th and 13th. Unfortunately, there are few granules associated with those particular days. We can, in principal, use the URIs stored in this DataFrame to set up analysis of the data associated with this event; we'll do so in other examples with better data available.\n",
    "\n",
    "---"
   ]
  },
  {
   "cell_type": "markdown",
   "id": "06bf4acb-4b83-4079-964c-d26b94b8925d",
   "metadata": {},
   "source": [
    "In subsequent notebooks, we'll use this general workflow:\n",
    "\n",
    "1. Set up a search query by identifying a particular AOI and range of dates.\n",
    "2. Identify a suitable asset catalog and execute the search using `pystac.Client`.\n",
    "3. Convert the search results into a Pandas DataFrame containing the principal fields of interest.\n",
    "4. Use the resulting DataFrame to access relevant remote data for analysis and/or visualization."
   ]
  },
  {
   "cell_type": "code",
   "execution_count": null,
   "id": "2ac76606",
   "metadata": {},
   "outputs": [],
   "source": [
    "granules_by_day # Recall our earlier resampling by day"
   ]
  },
  {
   "cell_type": "code",
   "execution_count": null,
   "id": "a2577107",
   "metadata": {},
   "outputs": [],
   "source": [
    "# Aggregate all granules by day into a list for each day\n",
    "granules_by_day = granules_by_day['hrefs'].apply(list)"
   ]
  },
  {
   "cell_type": "code",
   "execution_count": null,
   "id": "de094f71",
   "metadata": {},
   "outputs": [],
   "source": [
    "granules_by_day.head(5).map(len) # Should match granule_counts from earlier"
   ]
  },
  {
   "cell_type": "code",
   "execution_count": null,
   "id": "57b150f1-4c4b-4cef-9789-94a34e77a94c",
   "metadata": {},
   "outputs": [],
   "source": [
    "# Note: these dates do not agree with the text in the Markdown block above; fix?\n",
    "dates_of_interest = ['2024-03-01', '2024-03-17', '2024-03-28']"
   ]
  },
  {
   "cell_type": "code",
   "execution_count": null,
   "id": "0bb4f3f9-d607-47cb-81a9-49a9e2f3d388",
   "metadata": {},
   "outputs": [],
   "source": [
    "# The Pandas Series granules_by_day returns a list of URIs for each date; these can be merged into images. \n",
    "granules_by_day.loc[dates_of_interest[-1]]"
   ]
  },
  {
   "cell_type": "code",
   "execution_count": null,
   "id": "1a902d45",
   "metadata": {},
   "outputs": [],
   "source": [
    "# Assemble DataArray from merged data from those three days.\n",
    "# This could take some time to download TIF files (within the function rasterio.merge.merge)\n",
    "\n",
    "# Note: the computation below of x_coords & y_coords may be incorrect; the formulas are inferred from https://rasterio.readthedocs.io/en/latest/quickstart.html.\n",
    "# It is also possible that they can be computed once outside the loop rather than repeatedly.\n",
    "da_list, transform_list = [], []\n",
    "for date in dates_of_interest:\n",
    "    merged_array, transform = merge(granules_by_day.loc[date])\n",
    "    dims = merged_array.squeeze().shape\n",
    "    x_min, y_max = transform * (0,0)\n",
    "    x_max, y_min = transform * dims\n",
    "    x_coords = np.linspace(x_min, x_max, dims[0])\n",
    "    y_coords = np.linspace(y_min, y_max, dims[1])\n",
    "    da_list.append( xr.DataArray(data=merged_array,\n",
    "                                       coords=[('t',[date]), ('x', x_coords), ('y', y_coords)]) )\n",
    "    transform_list.append(transform)"
   ]
  },
  {
   "cell_type": "code",
   "execution_count": null,
   "id": "48a54917",
   "metadata": {},
   "outputs": [],
   "source": [
    "da = xr.concat(da_list, dim='t')"
   ]
  },
  {
   "cell_type": "markdown",
   "id": "610d1b92-cdc3-4960-8b4f-3c112b953722",
   "metadata": {},
   "source": [
    "One interesting observation: the images are stored as 8-bit unsigned integers (i.e., values between 0 and 255).\n",
    "\n",
    "Although there are 256 possible values, there are only a handful of distinct values in the dynamic range of the numerical data (as we can see by extracting the pixel values into a Pandas Series)."
   ]
  },
  {
   "cell_type": "code",
   "execution_count": null,
   "id": "fe4f1a64-5a86-47f3-be7b-c598b7f5b8e3",
   "metadata": {},
   "outputs": [],
   "source": [
    "pixel_values = pd.Series(da.values.flatten())\n",
    "pixel_values.value_counts().sort_index() / len(pixel_values) # fewer than a half dozen distinct pixel values."
   ]
  },
  {
   "cell_type": "markdown",
   "id": "a44b5563-4766-4bdc-b14f-423671c8af83",
   "metadata": {},
   "source": [
    "The pixel values 1, 2, & 252 correspond to water; the values 0 & 255 correspond either to land or missing data.\n",
    "\n",
    "To help visualize the data, we first extract the colormap from one of the granules. We then flag the constraints above by assigning the corresponding pixel values blue or white (to be treated as transparent)."
   ]
  },
  {
   "cell_type": "code",
   "execution_count": null,
   "id": "b145d224",
   "metadata": {},
   "outputs": [],
   "source": [
    "# Pick the first file for the first key available\n",
    "first_file = granules_by_day.loc[dates_of_interest[0]][0]\n",
    "# Load up color maps for visualization\n",
    "with rasterio.open(first_file) as src:\n",
    "    colormap = src.colormap(1)\n",
    "    crs = src.crs"
   ]
  },
  {
   "cell_type": "code",
   "execution_count": null,
   "id": "9e4e2b7e-a007-4ded-9e45-d6f6ac72ddcd",
   "metadata": {},
   "outputs": [],
   "source": [
    "# Convert colormap from dict to NumPy array while rescaling values to [0,1]\n",
    "colormap = np.concatenate([ np.array([colormap[k]]) / 255 for k in colormap ], axis=0)"
   ]
  },
  {
   "cell_type": "code",
   "execution_count": null,
   "id": "75890a70",
   "metadata": {},
   "outputs": [],
   "source": [
    "# Assign the\n",
    "blue_bands, transparent_bands = [1, 2, 252], [0, 255]\n",
    "colormap[blue_bands,:] = [0,0,1,1]\n",
    "colormap[transparent_bands,:] = [0,0,0,0]"
   ]
  },
  {
   "cell_type": "code",
   "execution_count": null,
   "id": "aa29b7df-219a-459a-8c38-866b89e6cf60",
   "metadata": {},
   "outputs": [],
   "source": [
    "colormap = ListedColormap(colormap)"
   ]
  },
  {
   "cell_type": "markdown",
   "id": "ea4c642d-06ed-4620-b3b4-7ca0f3d51f14",
   "metadata": {},
   "source": [
    "In Matplotlib, these three time slices can be plotted with the code below."
   ]
  },
  {
   "cell_type": "code",
   "execution_count": null,
   "id": "6a8bf804-fe1e-46b4-8ca5-5989e4e24a41",
   "metadata": {},
   "outputs": [],
   "source": [
    "fig, ax = plt.subplots(1, 3, figsize = (30, 10))\n",
    "\n",
    "for i in range(3):\n",
    "    show(da.isel(t=i).values, ax=ax[i], cmap=colormap, transform=transform_list[i], interpolation=None)"
   ]
  },
  {
   "cell_type": "markdown",
   "id": "287fa8a0-9adb-45d8-8d7e-171fc252e874",
   "metadata": {},
   "source": [
    "The above plots can be improved with some additional code; it's a little tricky to read."
   ]
  },
  {
   "cell_type": "code",
   "execution_count": null,
   "id": "351a9814",
   "metadata": {
    "scrolled": true
   },
   "outputs": [],
   "source": [
    "fig, ax = plt.subplots(1, 3, figsize = (30, 10))\n",
    "\n",
    "for i in range(3):\n",
    "    show(da.isel(t=i).values, ax=ax[i], cmap=colormap, transform=transform_list[i], interpolation=None)\n",
    "    #cx.add_basemap(ax[i], crs=crs, zoom=10, source=cx.providers.OpenStreetMap.Mapnik)\n",
    "    show(da.isel(t=i).values, ax=ax[i], cmap=colormap, transform=transform_list[i], interpolation=None)\n",
    "\n",
    "    scalebar = AnchoredSizeBar(ax[i].transData,\n",
    "                            5000, '5 km', 'lower right', \n",
    "                            color='black',\n",
    "                            frameon=False,\n",
    "                            pad = 0.25,\n",
    "                            sep=5,\n",
    "                            fontproperties = {'weight':'semibold', 'size':12},\n",
    "                            size_vertical=300)\n",
    "\n",
    "    ax[i].add_artist(scalebar)\n",
    "    ax[i].ticklabel_format(axis='both', style='scientific',scilimits=(0,0),useOffset=False,useMathText=True)\n",
    "    ax[i].set_xlabel('UTM easting (meters)')\n",
    "    ax[i].set_ylabel('UTM northing (meters)')\n",
    "    ax[i].set_title(f\"Water extent on: {da.coords['t'].values[i]}\")"
   ]
  },
  {
   "cell_type": "markdown",
   "id": "9f942d99-a334-408a-9393-c72d1c0ec324",
   "metadata": {},
   "source": [
    "Alternatively, the Hvplot library provides ways to plot data directly from Pandas DataFrames or Xarray DataArrays."
   ]
  },
  {
   "cell_type": "code",
   "execution_count": null,
   "id": "9eac516d-127e-414e-8df6-10ab22553b03",
   "metadata": {},
   "outputs": [],
   "source": [
    "cmap = process_cmap(colormap) # Convert Matplotlib colormap into form suitable for Holoviz/Geoviews/Hvplot"
   ]
  },
  {
   "cell_type": "code",
   "execution_count": null,
   "id": "9324dd31-5868-4286-804a-9b69af8e5929",
   "metadata": {},
   "outputs": [],
   "source": [
    "da.hvplot.image(x='x', y='y', colorbar=True, cmap=cmap, aspect='equal',  datashade=True,\n",
    "                 frame_width=150, frame_height=150, dynamic=True,).opts(xlabel='UTM easting', ylabel='UTM northing', alpha=0.5,)"
   ]
  },
  {
   "cell_type": "code",
   "execution_count": null,
   "id": "01e94876-c616-4a96-b479-965b76844773",
   "metadata": {},
   "outputs": [],
   "source": [
    "da.hvplot.quadmesh(x='x', y='y', colorbar=True, cmap=cmap, aspect='equal',  datashade=True,\n",
    "                 frame_width=150, frame_height=150, dynamic=True,).opts(xlabel='UTM easting', ylabel='UTM northing', alpha=0.5,)"
   ]
  },
  {
   "cell_type": "code",
   "execution_count": null,
   "id": "1c2e2810",
   "metadata": {},
   "outputs": [],
   "source": [
    "da.hvplot.quadmesh(x='x', y='y', cmap=cmap, aspect='equal', colorbar=False, datashade=True,\n",
    "                 frame_width=100, frame_height=100, dynamic=True,).opts(xlabel='UTM easting', ylabel='UTM northing', alpha=1,)"
   ]
  }
 ],
 "metadata": {
  "kernelspec": {
   "display_name": "Python 3 (ipykernel)",
   "language": "python",
   "name": "python3"
  },
  "language_info": {
   "codemirror_mode": {
    "name": "ipython",
    "version": 3
   },
   "file_extension": ".py",
   "mimetype": "text/x-python",
   "name": "python",
   "nbconvert_exporter": "python",
   "pygments_lexer": "ipython3",
   "version": "3.12.4"
  }
 },
 "nbformat": 4,
 "nbformat_minor": 5
}
