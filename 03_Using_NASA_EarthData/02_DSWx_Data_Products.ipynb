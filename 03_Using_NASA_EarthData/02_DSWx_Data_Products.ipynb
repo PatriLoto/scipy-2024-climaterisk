{
 "cells": [
  {
   "cell_type": "markdown",
   "metadata": {
    "jupyter": {
     "source_hidden": true
    }
   },
   "source": [
    "# Getting Started with OPERA DSWx Product\n",
    "---\n",
    "\n",
    "This notebook serves as an introduction to the [OPERA Dynamic Water eXtent (DSWx) product]((https://d2pn8kiwq2w21t.cloudfront.net/documents/ProductSpec_DSWX_URS309746.pdf)) and visualizing relevant raster layers for reservoir monitoring applications"
   ]
  },
  {
   "cell_type": "code",
   "execution_count": null,
   "metadata": {
    "jupyter": {
     "source_hidden": true
    }
   },
   "outputs": [],
   "source": [
    "# Notebook dependencies\n",
    "import warnings\n",
    "warnings.filterwarnings('ignore')\n",
    "from pathlib import Path\n",
    "\n",
    "import rioxarray as rio\n",
    "\n",
    "import hvplot.xarray\n",
    "from bokeh.models import FixedTicker\n",
    "import geoviews as gv\n",
    "gv.extension('bokeh')"
   ]
  },
  {
   "cell_type": "markdown",
   "metadata": {
    "jupyter": {
     "source_hidden": true
    }
   },
   "source": [
    "\n",
    "\n",
    "### Metadata\n",
    "---\n",
    "\n",
    "HLS products provide surface reflectance (SR) data from the Operational Land Imager (OLI) aboard the Landsat-8 remote sensing satellite and the Multi-Spectral Instrument (MSI) aboard the Sentinel-2 A/B remote sensing satellite. HLS products are distributed over projected map coordinates aligned with the Military Grid Reference System (MGRS). Each tile covers 109.8 kilometers squared divided into 3660 rows and 3660 columns at 30 meter pixel spacing. Each tile overlaps neighbors by 4900 meters in each direction."
   ]
  },
  {
   "cell_type": "markdown",
   "metadata": {
    "jupyter": {
     "source_hidden": true
    }
   },
   "source": [
    "\n",
    "\n",
    "### Raster Layers\n",
    "___\n",
    "\n",
    "The **DSWx** product is distributed as a set of Cloud-Optimized GeoTIFF (COG) files to enable download of only particular layers of interest to a given user. All L3 DSWx layers are stored in files following GeoTIFF format specifications.\n",
    "\n",
    "___"
   ]
  },
  {
   "cell_type": "code",
   "execution_count": null,
   "metadata": {
    "jupyter": {
     "source_hidden": true
    }
   },
   "outputs": [],
   "source": [
    "LOCAL_PATH = Path('..') / 'assets' / 'OPERA_L3_DSWx-HLS_T11SQA_20230828T181921Z_20230831T000636Z_S2A_30_v1.0_B01_WTR.tif'\n",
    "\n",
    "data = rio.open_rasterio(LOCAL_PATH)\n",
    "crs = data.rio.crs\n",
    "data = data.rename({'x':'easting', 'y':'northing', 'band':'band'}).squeeze()"
   ]
  },
  {
   "cell_type": "markdown",
   "metadata": {
    "jupyter": {
     "source_hidden": true
    }
   },
   "source": [
    "## **Band 1: Water classification (WTR)**\n",
    "***\n",
    "\n",
    "\n",
    "**Data Type:**  UInt8 <br>\n",
    "**Description:** Masked interpreted water classification layer. This represents pixel-wise classification into one of three water\n",
    "classes (not water, open water, and partial surface water), cloud/cloud shadow class, or no data classes.\n"
   ]
  },
  {
   "cell_type": "markdown",
   "metadata": {
    "jupyter": {
     "source_hidden": true
    }
   },
   "source": [
    "**Layer Values:**<br> \n",
    "* **0:** Not Water – an area with valid reflectance data that is not open water (class 1), partial surface water (class 2), or\n",
    "cloud/cloud shadow (class 9). Masking can result in “not water” (class 0) where land cover masking is applied<br>\n",
    "* **1:** Open Water – an area that is entirely water and unobstructed to the sensor, including obstructions by vegetation, terrain,\n",
    "and buildings <br>\n",
    "* **2:** Partial Surface Water – an area that is at least 50% and less than 100% open water. This may be referred to as “subpixel\n",
    "inundation” when referring to a pixel’s area. Examples include inundated sinkholes, floating vegetation, and pixels bisected by\n",
    "coastlines <br> \n",
    "* **8:** Snow/Ice - an area identified as snow/ice according to input HLS Fmask quality assurance (QA) data <br>\n",
    "* **9:** Cloud/Cloud Shadow – an area identified as cloud, cloud shadow, or snow/ice according to input quality assurance (QA)\n",
    "data <br>\n",
    "* **255:** Fill value (no data)  <br> "
   ]
  },
  {
   "cell_type": "code",
   "execution_count": null,
   "metadata": {
    "jupyter": {
     "source_hidden": true
    }
   },
   "outputs": [],
   "source": [
    "# Defines colormap for visualization\n",
    "levels = [0, 0.9, 1.9, 2.9, 7.9, 8.9, 10]\n",
    "color_key = {\n",
    "    \"Not Water\": \"#ffffff\",\n",
    "    \"Open Water\": \"#0000ff\",\n",
    "    \"Partial Surface Water\": \"#00ff00\",\n",
    "    \"Reserved\": \"#000000\",\n",
    "    \"Snow/Ice\": \"#00ffff\",\n",
    "    \"Clouds/Cloud Shadow\": \"#7f7f7f\"\n",
    "}\n",
    "\n",
    "ticks = [0.5, 1.5, 2.5, 5.5, 8.5, 9.5]\n",
    "ticker = FixedTicker(ticks=ticks)\n",
    "labels = dict(zip(ticks, color_key))"
   ]
  },
  {
   "cell_type": "code",
   "execution_count": null,
   "metadata": {
    "jupyter": {
     "source_hidden": true
    }
   },
   "outputs": [],
   "source": [
    "# Creates basemap\n",
    "base = gv.tile_sources.EsriImagery.opts(width=1000, height=1000, padding=0.1)\n",
    "dswx = data.where(data>0)"
   ]
  },
  {
   "cell_type": "code",
   "execution_count": null,
   "metadata": {
    "jupyter": {
     "source_hidden": true
    }
   },
   "outputs": [],
   "source": [
    "dswx.hvplot.image(x='easting', \n",
    "                  y='northing', \n",
    "                  rasterize=True, \n",
    "                  dynamic=True, \n",
    "                  aspect='equal', \n",
    "                  frame_width=500, \n",
    "                  frame_height=500,  \n",
    "                  clim=(0,10),\n",
    "                  alpha=0.8,\n",
    "                  crs=crs).opts(title=f\"B01_WTR\",color_levels=levels,cmap=tuple(color_key.values()),\n",
    "                                    colorbar_opts={'ticker':ticker,'major_label_overrides':labels}) * base"
   ]
  },
  {
   "cell_type": "markdown",
   "metadata": {
    "jupyter": {
     "source_hidden": true
    }
   },
   "source": [
    "## **Band 2: Binary water (BWTR)**\n",
    "***\n",
    "\n",
    "\n",
    "**Data Type:**  UInt8 <br>\n",
    "**Description:** The binary water map is derived from the WTR layer as a union of water classes (open water and partial surface\n",
    "water) into a binary map indicating areas with and without water. This layer is meant to provide users with a quick view for\n",
    "water/no-water. Invalid data classes (cloud/cloud shadow and fill value) are also provided to indicate areas in which the binary\n",
    "classification does not provide water/no-water classification.\n"
   ]
  },
  {
   "cell_type": "markdown",
   "metadata": {
    "jupyter": {
     "source_hidden": true
    }
   },
   "source": [
    "**Layer Values:**<br> \n",
    "* **0:** Not water – an area with valid reflectance data that is not water (class 1) and not cloud/cloud shadow (class 9)<br>\n",
    "* **1:** Water – an area classified as “open water” or “partial surface water” (see WTR layer) <br>\n",
    "* **8:** Snow/Ice - an area identified as snow/ice according to input HLS Fmask quality assurance (QA) data <br>\n",
    "* **9:** Cloud/Cloud Shadow – an area identified as cloud, cloud shadow, or snow/ice according to input QA data <br>\n",
    "* **255:** Fill value (no data)  <br> "
   ]
  },
  {
   "cell_type": "code",
   "execution_count": null,
   "metadata": {
    "jupyter": {
     "source_hidden": true
    }
   },
   "outputs": [],
   "source": [
    "LOCAL_PATH = Path('..') / 'assets' / 'OPERA_L3_DSWx-HLS_T11SQA_20230828T181921Z_20230831T000636Z_S2A_30_v1.0_B02_BWTR.tif'\n",
    "data = rio.open_rasterio(LOCAL_PATH)\n",
    "crs = data.rio.crs\n",
    "data = data.rename({'x':'easting', 'y':'northing', 'band':'band'}).squeeze()\n",
    "bwtr = data.where((data!=255) & (data!=0))"
   ]
  },
  {
   "cell_type": "code",
   "execution_count": null,
   "metadata": {
    "jupyter": {
     "source_hidden": true
    }
   },
   "outputs": [],
   "source": [
    "# Defines colormap for visualization\n",
    "levels = [0, 0.9, 1.9, 7.9, 8.9, 10]\n",
    "color_key = {\n",
    "    \"Not Water\": \"#ffffff\",\n",
    "    \"Water\": \"#0000ff\",\n",
    "    \"Reserved\": \"#000000\",\n",
    "    \"Snow/Ice\": \"#00ffff\",\n",
    "    \"Clouds/Cloud Shadow\": \"#7f7f7f\"\n",
    "}\n",
    "\n",
    "ticks = [0.5, 1.5, 5.5, 8.5, 9.5]\n",
    "ticker = FixedTicker(ticks=ticks)\n",
    "labels = dict(zip(ticks, color_key))\n",
    "\n",
    "bwtr.hvplot.image(x='easting', \n",
    "                  y='northing',\n",
    "                  rasterize=True, \n",
    "                  dynamic=True, \n",
    "                  aspect='equal', \n",
    "                  frame_width=500, \n",
    "                  frame_height=500,\n",
    "                  clim=(0,10),\n",
    "                  alpha=0.8,\n",
    "                  crs=crs).opts(title=f\"B02_BWTR\",xlabel='Longitude', \n",
    "                                    ylabel='Latitude',color_levels=levels,cmap=tuple(color_key.values()),\n",
    "                                    colorbar_opts={'ticker':ticker,'major_label_overrides':labels}) * base"
   ]
  },
  {
   "cell_type": "markdown",
   "metadata": {
    "jupyter": {
     "source_hidden": true
    }
   },
   "source": [
    "## **Band 5: Interpretation of diagnostic layer into water classes (WTR-1)**\n",
    "***\n",
    "\n",
    "\n",
    "**Data Type:**  UInt8 <br>\n",
    "**Description:** Classification of DIAG layer results into open water, partial surface water, and no-water.\n"
   ]
  },
  {
   "cell_type": "markdown",
   "metadata": {
    "jupyter": {
     "source_hidden": true
    }
   },
   "source": [
    "**Layer Values:**<br> \n",
    "* **0:** Not Water - an area with valid reflectance data that is not open water (class 1) or partial surface water (class 2)<br>\n",
    "* **1:** Open Water – an area that is entirely water and unobstructed to the sensor, including obstructions by vegetation, terrain,\n",
    "and buildings <br>\n",
    "* **2:** Partial Surface Water – an area that is at least 50% and less than 100% open water. This may be referred to as “subpixel\n",
    "inundation” when referring to a pixel’s area. Examples include wetlands, water bodies with floating vegetation, and pixels\n",
    "bisected by coastlines <br> \n",
    "* **255:** Fill value (no data)  <br> "
   ]
  },
  {
   "cell_type": "code",
   "execution_count": null,
   "metadata": {
    "jupyter": {
     "source_hidden": true
    }
   },
   "outputs": [],
   "source": [
    "LOCAL_PATH = Path('..') / 'assets' / 'OPERA_L3_DSWx-HLS_T11SQA_20230828T181921Z_20230831T000636Z_S2A_30_v1.0_B05_WTR-1.tif'\n",
    "\n",
    "data = rio.open_rasterio(LOCAL_PATH)\n",
    "crs = data.rio.crs\n",
    "data = data.rename({'x':'easting', 'y':'northing', 'band':'band'}).squeeze()\n",
    "wtr1 = data.where((data!=255) & (data!=0))"
   ]
  },
  {
   "cell_type": "code",
   "execution_count": null,
   "metadata": {
    "jupyter": {
     "source_hidden": true
    }
   },
   "outputs": [],
   "source": [
    "# Defines colormap for visualization\n",
    "levels = [0, 0.6, 1.3, 2]\n",
    "color_key = {\n",
    "    \"Not Water\": \"#ffffff\",\n",
    "    \"Open Water\": \"#0000ff\",\n",
    "    \"Partial Surface Water\": \"#00ff00\",\n",
    "}\n",
    "\n",
    "ticks = [0.25, 0.9, 1.6]\n",
    "ticker = FixedTicker(ticks=ticks)\n",
    "labels = dict(zip(ticks, color_key))\n",
    "\n",
    "wtr1.hvplot.image(x='easting', \n",
    "                  y='northing', \n",
    "                  rasterize=True, \n",
    "                  dynamic=True, \n",
    "                  aspect='equal', \n",
    "                  frame_width=500, \n",
    "                  frame_height=500,  \n",
    "                  clim=(0,2),\n",
    "                  alpha=0.8,\n",
    "                  crs=crs).opts(title=f\"B05_WTR-1\",xlabel='Longitude', ylabel='Latitude',\n",
    "                                color_levels=levels,cmap=tuple(color_key.values()),\n",
    "                                colorbar_opts={'ticker':ticker,'major_label_overrides':labels}) * base"
   ]
  },
  {
   "cell_type": "markdown",
   "metadata": {
    "jupyter": {
     "source_hidden": true
    }
   },
   "source": [
    "## **Band 6: Interpreted layer refined using land cover and terrain shadow testing (WTR-2)**\n",
    "***\n",
    "\n",
    "\n",
    "**Data Type:**  UInt8 <br>\n",
    "**Description:** The WTR-2 layer is derived from the WTR-1 (Layer 5) outcome by applying additional tests based on land cover\n",
    "and terrain shadow information to mask (eliminate) false-positive water detections."
   ]
  },
  {
   "cell_type": "markdown",
   "metadata": {
    "jupyter": {
     "source_hidden": true
    }
   },
   "source": [
    "**Layer Values:**<br> \n",
    "* **0:** Not Water - an area with valid reflectance data that is not open water (class 1) or partial surface water (class 2)<br>\n",
    "* **1:** Open Water – an area that is entirely water and unobstructed to the sensor, including obstructions by vegetation, terrain,\n",
    "and buildings <br>\n",
    "* **2:** Partial Surface Water – an area that is at least 50% and less than 100% open water. This may be referred to as “subpixel\n",
    "inundation” when referring to a pixel’s area. Examples include wetlands, water bodies with floating vegetation, and pixels\n",
    "bisected by coastlines <br> \n",
    "* **255:** Fill value (no data)  <br> "
   ]
  },
  {
   "cell_type": "code",
   "execution_count": null,
   "metadata": {
    "jupyter": {
     "source_hidden": true
    }
   },
   "outputs": [],
   "source": [
    "LOCAL_PATH = Path('..') / 'assets' / 'OPERA_L3_DSWx-HLS_T11SQA_20230828T181921Z_20230831T000636Z_S2A_30_v1.0_B06_WTR-2.tif'\n",
    "\n",
    "data = rio.open_rasterio(LOCAL_PATH)\n",
    "crs = data.rio.crs\n",
    "data = data.rename({'x':'easting', 'y':'northing', 'band':'band'}).squeeze()\n",
    "wtr2 = data.where((data!=255) & (data!=0))"
   ]
  },
  {
   "cell_type": "code",
   "execution_count": null,
   "metadata": {
    "jupyter": {
     "source_hidden": true
    }
   },
   "outputs": [],
   "source": [
    "# Defines colormap for visualization\n",
    "levels = [0, 0.6, 1.3, 2]\n",
    "color_key = {\n",
    "    \"Not Water\": \"#ffffff\",\n",
    "    \"Open Water\": \"#0000ff\",\n",
    "    \"Partial Surface Water\": \"#00ff00\",\n",
    "}\n",
    "\n",
    "ticks = [0.25, 0.9, 1.6]\n",
    "ticker = FixedTicker(ticks=ticks)\n",
    "labels = dict(zip(ticks, color_key))\n",
    "\n",
    "wtr2.hvplot.image(x='easting', \n",
    "                  y='northing', \n",
    "                  rasterize=True, \n",
    "                  dynamic=True, \n",
    "                  aspect='equal', \n",
    "                  frame_width=500, \n",
    "                  frame_height=500,  \n",
    "                  clim=(0,2),\n",
    "                  alpha=0.8,\n",
    "                  crs=crs).opts(title=f\"B06_WTR-2\",xlabel='Longitude', \n",
    "                                    ylabel='Latitude',color_levels=levels,cmap=tuple(color_key.values()),\n",
    "                                    colorbar_opts={'ticker':ticker,'major_label_overrides':labels}) * base"
   ]
  }
 ],
 "metadata": {
  "kernelspec": {
   "display_name": "Python 3 (ipykernel)",
   "language": "python",
   "name": "python3"
  },
  "language_info": {
   "codemirror_mode": {
    "name": "ipython",
    "version": 3
   },
   "file_extension": ".py",
   "mimetype": "text/x-python",
   "name": "python",
   "nbconvert_exporter": "python",
   "pygments_lexer": "ipython3",
   "version": "3.12.3"
  },
  "vscode": {
   "interpreter": {
    "hash": "9fe00c82e687aae79922144351eff1f75b363c66082d572d5eef9f8f8e4f31b9"
   }
  }
 },
 "nbformat": 4,
 "nbformat_minor": 4
}
