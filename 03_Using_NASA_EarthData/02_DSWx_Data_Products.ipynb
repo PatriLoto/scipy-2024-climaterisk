{
 "cells": [
  {
   "cell_type": "markdown",
   "metadata": {},
   "source": [
    "# Getting Started with OPERA DSWx Product\n",
    "---\n",
    "\n",
    "**This notebook serves as an introduction to the OPERA Dynamic Water eXtent (DSWx) product and visualizing relevant raster layers for reservoir monitoring applications. <font color='red'>Note: This notebook uses provisional products, which may differ slightly from operational products. Please refer to [DSWx product specification](https://d2pn8kiwq2w21t.cloudfront.net/documents/ProductSpec_DSWX_URS309746.pdf) for more information. </font>**"
   ]
  },
  {
   "cell_type": "code",
   "execution_count": null,
   "metadata": {},
   "outputs": [],
   "source": [
    "# Notebook dependencies\n",
    "import warnings\n",
    "warnings.filterwarnings('ignore')\n",
    "from pathlib import Path\n",
    "\n",
    "import xarray as xr\n",
    "import numpy as np\n",
    "import rioxarray as rio\n",
    "\n",
    "import hvplot.xarray\n",
    "from matplotlib.colors import ListedColormap\n",
    "from bokeh.models import FixedTicker\n",
    "import geoviews as gv\n",
    "gv.extension('bokeh')"
   ]
  },
  {
   "cell_type": "markdown",
   "metadata": {},
   "source": [
    "\n",
    "\n",
    "### Product Background\n",
    "---\n",
    "\n",
    "The DSWx product products map pixel-wise surface water detections using optical or SAR imagery. This notebook focuses on relevant layers in optical DSWx products derived from the Harmonized Landsat-8 and Sentinel-2 A/B (HLS) multispectral data. "
   ]
  },
  {
   "cell_type": "markdown",
   "metadata": {},
   "source": [
    "\n",
    "\n",
    "### Metadata\n",
    "---\n",
    "\n",
    "HLS products provide surface reflectance (SR) data from the Operational Land Imager (OLI) aboard the Landsat-8 remote sensing satellite and the Multi-Spectral Instrument (MSI) aboard the Sentinel-2 A/B remote sensing satellite. HLS products are distributed over projected map coordinates aligned with the Military Grid Reference System (MGRS). Each tile covers 109.8 kilometers squared divided into 3660 rows and 3660 columns at 30 meter pixel spacing. Each tile overlaps neighbors by 4900 meters in each direction."
   ]
  },
  {
   "cell_type": "markdown",
   "metadata": {},
   "source": [
    "\n",
    "\n",
    "### Raster Layers\n",
    "___\n",
    "\n",
    "The **DSWx** product is distributed as a set of Cloud-Optimized GeoTIFF (COG) files to enable download of only particular layers of interest to a given user. All L3 DSWx layers are stored in files following GeoTIFF format specifications.\n",
    "\n",
    "___"
   ]
  },
  {
   "cell_type": "code",
   "execution_count": null,
   "metadata": {},
   "outputs": [],
   "source": [
    "LOCAL_PATH = Path('..') / 'assets' / 'OPERA_L3_DSWx-HLS_T11SQA_20230409T181446Z_20230411T155832Z_L8_30_v1.0_B01_WTR.tif'"
   ]
  },
  {
   "cell_type": "code",
   "execution_count": null,
   "metadata": {},
   "outputs": [],
   "source": [
    "data = rio.open_rasterio(LOCAL_PATH)\n",
    "data"
   ]
  },
  {
   "cell_type": "code",
   "execution_count": null,
   "metadata": {},
   "outputs": [],
   "source": [
    "crs = data.rio.crs\n",
    "crs"
   ]
  },
  {
   "cell_type": "code",
   "execution_count": null,
   "metadata": {},
   "outputs": [],
   "source": [
    "dswx = data.rename({'x':'longitude', 'y':'latitude', 'band':'band'}).squeeze()\n",
    "dswx"
   ]
  },
  {
   "cell_type": "markdown",
   "metadata": {},
   "source": [
    "## **Band 1: Water classification (WTR)**\n",
    "***\n",
    "\n",
    "\n",
    "**Data Type:**  UInt8 <br>\n",
    "**Description:** Masked interpreted water classification layer. This represents pixel-wise classification into one of three water\n",
    "classes (not water, open water, and partial surface water), cloud/cloud shadow class, or no data classes.\n"
   ]
  },
  {
   "cell_type": "markdown",
   "metadata": {},
   "source": [
    "**Layer Values:**<br> \n",
    "* **0:** Not Water – an area with valid reflectance data that is not open water (class 1), partial surface water (class 2), or\n",
    "cloud/cloud shadow (class 9). Masking can result in “not water” (class 0) where land cover masking is applied<br>\n",
    "* **1:** Open Water – an area that is entirely water and unobstructed to the sensor, including obstructions by vegetation, terrain,\n",
    "and buildings <br>\n",
    "* **2:** Partial Surface Water – an area that is at least 50% and less than 100% open water. This may be referred to as “subpixel\n",
    "inundation” when referring to a pixel’s area. Examples include inundated sinkholes, floating vegetation, and pixels bisected by\n",
    "coastlines <br> \n",
    "* **8:** Snow/Ice - an area identified as snow/ice according to input HLS Fmask quality assurance (QA) data <br>\n",
    "* **9:** Cloud/Cloud Shadow – an area identified as cloud, cloud shadow, or snow/ice according to input quality assurance (QA)\n",
    "data <br>\n",
    "* **255:** Fill value (no data)  <br> "
   ]
  },
  {
   "cell_type": "code",
   "execution_count": null,
   "metadata": {},
   "outputs": [],
   "source": [
    "# Defines colormap for visualization\n",
    "levels = [0, 0.9, 1.9, 2.9, 7.9, 8.9, 10]\n",
    "color_key = {\n",
    "    \"Not Water\": \"#ffffff\",\n",
    "    \"Open Water\": \"#0000ff\",\n",
    "    \"Partial Surface Water\": \"#00ff00\",\n",
    "    \"Reserved\": \"#000000\",\n",
    "    \"Snow/Ice\": \"#00ffff\",\n",
    "    \"Clouds/Cloud Shadow\": \"#7f7f7f\"\n",
    "}\n",
    "\n",
    "ticks = [0.5, 1.5, 2.5, 5.5, 8.5, 9.5]\n",
    "ticker = FixedTicker(ticks=ticks)\n",
    "labels = dict(zip(ticks, color_key))"
   ]
  },
  {
   "cell_type": "code",
   "execution_count": null,
   "metadata": {},
   "outputs": [],
   "source": [
    "# Creates basemap\n",
    "base = gv.tile_sources.EsriImagery.opts(width=1000, height=1000, padding=0.1)"
   ]
  },
  {
   "cell_type": "code",
   "execution_count": null,
   "metadata": {},
   "outputs": [],
   "source": [
    "dswx.hvplot.image(x='longitude', \n",
    "                          y='latitude', \n",
    "                          crs=crs, \n",
    "                          rasterize=True, \n",
    "                          dynamic=True, \n",
    "                          aspect='equal', \n",
    "                          frame_width=500, \n",
    "                          frame_height=500,  \n",
    "                          clim=(0,10), alpha=0.8).opts(title=f\"B01_WTR\",color_levels=levels,cmap=tuple(color_key.values()),\n",
    "                                    colorbar_opts={'ticker':ticker,'major_label_overrides':labels}) * base"
   ]
  }
 ],
 "metadata": {
  "kernelspec": {
   "display_name": "Python 3 (ipykernel)",
   "language": "python",
   "name": "python3"
  },
  "language_info": {
   "codemirror_mode": {
    "name": "ipython",
    "version": 3
   },
   "file_extension": ".py",
   "mimetype": "text/x-python",
   "name": "python",
   "nbconvert_exporter": "python",
   "pygments_lexer": "ipython3",
   "version": "3.12.4"
  },
  "vscode": {
   "interpreter": {
    "hash": "9fe00c82e687aae79922144351eff1f75b363c66082d572d5eef9f8f8e4f31b9"
   }
  }
 },
 "nbformat": 4,
 "nbformat_minor": 4
}
