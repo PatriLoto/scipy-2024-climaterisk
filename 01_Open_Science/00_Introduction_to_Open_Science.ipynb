{
 "cells": [
  {
   "cell_type": "markdown",
   "id": "da50116a",
   "metadata": {},
   "source": [
    "# About this tutorial\n",
    "\n",
    "This tutorial is part of a project which focuses on leveraging the vast amount of Earth science data available through the NASA Earthdata Cloud to better understand and forecast environmental risks such as wildfire, drought, and floods. At its core, this project embodies the principles of open science, aiming to make data, methods, and findings accessible to all. \n",
    "We aim to equip learners with the skills to analyze, visualize, and report on data related to these critical environmental risks through open science-based workflows and the use of cloud-based data computing."
   ]
  },
  {
   "cell_type": "markdown",
   "id": "592483c0",
   "metadata": {},
   "source": [
    "## What is Open Science\n",
    "\n",
    "\"Open Science is the principle and practice of making research products and processes available to all, while respecting diverse cultures, maintaining security and privacy, and fostering collaborations, reproducibility, and equity.\""
   ]
  },
  {
   "cell_type": "markdown",
   "id": "20043447",
   "metadata": {},
   "source": [
    "![](../assets/image165.png)\n",
    "\n",
    "### Availability of Open Science Resources:\n",
    "\n",
    "- Many existing open science resources, over 100 Petabytes of openly available NASA data.\n",
    "- Tools and practices for collaboration and code development.\n",
    "\n",
    "### Outputs and Project Openness:\n",
    "\n",
    "- Choice between openness from project inception or at publication.\n",
    "- Making data, code, and results open.\n",
    "\n",
    "### Importance of Sharing and Impact:\n",
    "\n",
    "- Enhances the discoverability and accessibility of scientific processes and outputs.\n",
    "- Open methods enhance reproducibility.\n",
    "- Transparency and verifiability enhance accuracy.\n",
    "- Scrutiny of analytic decisions promotes trust.\n",
    "- Accessible data and collective efforts accelerate discoveries.\n",
    "- Open science fosters inclusion, diversity, equity, and accessibility (IDEA).\n",
    "- And much more..\n",
    "\n",
    "\n",
    "![](../assets/image377.jpg)\n"
   ]
  },
  {
   "cell_type": "markdown",
   "id": "9261122e",
   "metadata": {},
   "source": [
    "## Why now\n",
    "\n",
    "- The internet offers numerous platforms for public hosting and free access to research and data. These platforms, coupled with advancements in computational power, empower individuals to engage in sophisticated data analysis. This connectivity facilitates the integration of participants, stakeholders, and outcomes of open science initiatives online.\n",
    "\n",
    "- Science and science communication confront growing resistance from the public due to concerns about result reproducibility and the proliferation of misinformation. Open science practices address these challenges by leveraging community feedback to validate results more rigorously and by making findings readily accessible to the public, countering misinformation.\n",
    "\n",
    "- Scientific rigor and accuracy are bolstered when researchers validate their peers' findings. However, the lack of access to original data and code in scientific articles delays this process."
   ]
  },
  {
   "cell_type": "markdown",
   "id": "9f85336e",
   "metadata": {},
   "source": [
    "## Where to start: Open Research Products\n",
    "\n",
    "Scientific knowledge, or research products, take the form of:\n",
    "\n",
    "![](../assets/image5.png)\n",
    "\n",
    "### What is data?\n",
    "\n",
    "Scientifically or technically relevant information that can be stored digitally and accessed electronically such as:\n",
    "\n",
    "- Information produced by missions and experiments, including calibrations, coefficients, and documentation.\n",
    "- Information needed to validate scientific conclusions of peer-reviewed publications.\n",
    "- Metadata.\n",
    "\n",
    "### What is code?\n",
    "\n",
    "- General Purpose Software – Software produced for widespread use, not specialized scientific purposes. This encompasses both commercial software and open-source software.\n",
    "- Operational and Infrastructure Software – Software used by data centers and large information technology facilities to provide data services.\n",
    "- Libraries – No creative process is truly complete until it manifests a tangible reality. Whether your idea is an action or a physical creation, bringing it to life will likely involve the hard work of iteration, testing, and refinement.\n",
    "- Modeling and Simulation Software – Software that either implements solutions to mathematical equations given input data and boundary conditions, or infers models from data.\n",
    "- Analysis Software – Software developed to manipulate measurements or model results to visualize or gain understanding.\n",
    "- Single-use Software – Software written for use in unique instances, such as making a plot for a paper, or manipulating data in a specific way.\n",
    "\n",
    "### What are results?\n",
    "\n",
    "Results capture the different research outputs of the scientific process. Publications are the most common type of results, but this can include a number of other types of products:\n",
    "\n",
    "- Peer-reviewed publications\n",
    "- Computational notebooks\n",
    "- Blog posts\n",
    "- Videos and podcasts\n",
    "- Social media posts\n",
    "- Conference abstracts and presentations\n",
    "- Forum discussions\n",
    "\n",
    "Products are created throughout the scientific process that are needed to enable others to reproduce the findings. The products of research include data, code, analysis pipelines, papers, and more!\n",
    "\n",
    "\n",
    "![](../assets/image7.jpeg)\n",
    "\n",
    "\n"
   ]
  }
 ],
 "metadata": {
  "kernelspec": {
   "display_name": "Python 3 (ipykernel)",
   "language": "python",
   "name": "python3"
  },
  "language_info": {
   "codemirror_mode": {
    "name": "ipython",
    "version": 3
   },
   "file_extension": ".py",
   "mimetype": "text/x-python",
   "name": "python",
   "nbconvert_exporter": "python",
   "pygments_lexer": "ipython3",
   "version": "3.12.3"
  }
 },
 "nbformat": 4,
 "nbformat_minor": 5
}
