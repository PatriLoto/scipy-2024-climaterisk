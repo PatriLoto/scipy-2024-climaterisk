{
 "cells": [
  {
   "cell_type": "markdown",
   "metadata": {},
   "source": [
    "# Retrieving Disturbance Data\n",
    "\n",
    "The [OPERA DIST-HLS data product](https://lpdaac.usgs.gov/documents/1766/OPERA_DIST_HLS_Product_Specification_V1.pdf) can be used to study the evolution of vegetation loss due to natural and anthropogenic causes. \n",
    "\n",
    "Deforestation of the Amazon Rainforest in Brazil is an ongoing challenge [[1](https://www.cfr.org/amazon-deforestation/#/en)]. In this notebook, we examine deforestation over a period of one year in the state of Maranhão, Brazil"
   ]
  },
  {
   "cell_type": "code",
   "execution_count": null,
   "metadata": {},
   "outputs": [],
   "source": [
    "from warnings import filterwarnings\n",
    "filterwarnings(\"ignore\") # suppress PySTAC warnings\n",
    "\n",
    "# Data imports\n",
    "import rioxarray as rio\n",
    "\n",
    "# Plotting imports\n",
    "from rasterio.warp import transform_bounds\n",
    "import geoviews as gv\n",
    "from geoviews import opts\n",
    "from rasterio.crs import CRS\n",
    "import hvplot.xarray  # noqa\n",
    "gv.extension('bokeh')\n",
    "\n",
    "# GIS imports\n",
    "from shapely.geometry import Point\n",
    "from osgeo import gdal\n",
    "from rasterio.merge import merge\n",
    "\n",
    "# misc imports\n",
    "from datetime import datetime\n",
    "\n",
    "# STAC imports to retrieve cloud data\n",
    "from pystac_client import Client\n",
    "\n",
    "# Local imports\n",
    "from util_functions import search_to_df, urls_to_dataset, filter_search_by_cc\n",
    "\n",
    "# GDAL setup for accessing cloud data\n",
    "gdal.SetConfigOption('GDAL_HTTP_COOKIEFILE','~/cookies.txt')\n",
    "gdal.SetConfigOption('GDAL_HTTP_COOKIEJAR', '~/cookies.txt')\n",
    "gdal.SetConfigOption('GDAL_DISABLE_READDIR_ON_OPEN','EMPTY_DIR')\n",
    "gdal.SetConfigOption('CPL_VSIL_CURL_ALLOWED_EXTENSIONS','TIF, TIFF')"
   ]
  },
  {
   "cell_type": "code",
   "execution_count": null,
   "metadata": {},
   "outputs": [],
   "source": [
    "maranhao = (-43.65, -3.00)\n",
    "\n",
    "ref_crs = CRS.from_epsg(4326)\n",
    "dst_crs = CRS.from_epsg(3857)\n",
    "map_bounds = transform_bounds(ref_crs, dst_crs, *Point(*maranhao).buffer(10).bounds)"
   ]
  },
  {
   "cell_type": "code",
   "execution_count": null,
   "metadata": {},
   "outputs": [],
   "source": [
    "# visualize AOI as a sanity check\n",
    "maranhao_gv = gv.Points([maranhao])\n",
    "\n",
    "basemap = gv.tile_sources.OSM\n",
    "plot = (maranhao_gv*basemap).opts(\n",
    "    opts.Points(\n",
    "        color='red',\n",
    "        alpha=0.75,\n",
    "        size=25,\n",
    "        width=800,\n",
    "        height=800,\n",
    "        xlim=(map_bounds[0], map_bounds[2]),\n",
    "        ylim=(map_bounds[1], map_bounds[3]))\n",
    ")\n",
    "plot"
   ]
  },
  {
   "cell_type": "markdown",
   "metadata": {},
   "source": [
    "NOTE: The OPERA DIST data product is hosted on [LP DAAC](https://lpdaac.usgs.gov/news/lp-daac-releases-opera-land-surface-disturbance-alert-version-1-data-product/), and this is specified when setting up the PySTAC client to search their catalog of data products in the above code cell."
   ]
  },
  {
   "cell_type": "code",
   "execution_count": null,
   "metadata": {},
   "outputs": [],
   "source": [
    "# We will search data through the product record\n",
    "start_date = datetime(year=2022, month=1, day=1)\n",
    "stop_date = datetime(year=2024, month=3, day=31)\n",
    "\n",
    "# We open a client instance to search for data, and retrieve relevant data records\n",
    "STAC_URL = 'https://cmr.earthdata.nasa.gov/stac'\n",
    "\n",
    "# Setup PySTAC client\n",
    "# LPCLOUD refers to the LP DAAC cloud environment that hosts earth observation data\n",
    "catalog = Client.open(f'{STAC_URL}/LPCLOUD/') \n",
    "\n",
    "collections = [\"OPERA_L3_DIST-ALERT-HLS_V1\"]\n",
    "\n",
    "# We would like to search data for August-September 2023\n",
    "date_range = f'{start_date.strftime(\"%Y-%m-%d\")}/{stop_date.strftime(\"%Y-%m-%d\")}'\n",
    "\n",
    "search_opts = {\n",
    "    'bbox' : Point(*maranhao).buffer(.1).bounds, \n",
    "    'collections': collections,\n",
    "    'datetime' : date_range,\n",
    "}\n",
    "\n",
    "search = catalog.search(**search_opts)\n",
    "results = list(search.items_as_dicts())\n",
    "print(f\"Number of tiles found intersecting given AOI: {len(results)}\")"
   ]
  },
  {
   "cell_type": "code",
   "execution_count": null,
   "metadata": {},
   "outputs": [],
   "source": [
    "# let's filter our results so that only scenes with less than 10% cloud cover are returned\n",
    "results = filter_search_by_cc(results, cloud_threshold=20)\n",
    "\n",
    "print(\"Number of results containing less than 20% cloud cover: \", len(results))"
   ]
  },
  {
   "cell_type": "code",
   "execution_count": null,
   "metadata": {},
   "outputs": [],
   "source": [
    "# Load results into a pandas dataframe\n",
    "granules = search_to_df(results, layer_name='VEG-DIST-STATUS')\n",
    "\n",
    "# filter to study a single geographic area\n",
    "granules = granules[granules.tile_id == 'T23MPS']\n",
    "\n",
    "# load data into an xarray dataset\n",
    "dataset = urls_to_dataset(granules)"
   ]
  },
  {
   "cell_type": "markdown",
   "metadata": {},
   "source": [
    "**Values in the VEG-DIST-STATUS of the DIST-ALERT product is interpreted as follows:**\n",
    "\n",
    "* **0:** No disturbance<br>\n",
    "* **1:** First detection of disturbance with vegetation cover change <50% <br>\n",
    "* **2:** Provisional detection of disturbance with vegetation cover change <50% <br>\n",
    "* **3:** Confirmed detection of disturbance with vegetation cover change <50% <br>\n",
    "* **4:** First detection of disturbance with vegetation cover change >50% <br>\n",
    "* **5:** Provisional detection of disturbance with vegetation cover change >50% <br>\n",
    "* **6:** Confirmed detection of disturbance with vegetation cover change >50% <br>\n",
    "* **7:** Finished detection of disturbance with vegetation cover change <50% <br>\n",
    "* **8:** Finished detection of disturbance with vegetation cover change >50% <br>"
   ]
  },
  {
   "cell_type": "code",
   "execution_count": null,
   "metadata": {},
   "outputs": [],
   "source": [
    "# Define color map to generate plot (Red, Green, Blue, Alpha)\n",
    "COLORS = [(255, 255, 255, .1)] * 256  # Initial set all values to white, with 10% opacity\n",
    "\n",
    "# We would like to visualze only pixels with confirmed and finished disturbances\n",
    "for i in [3, 6, 7, 8]:\n",
    "    COLORS[i] = (255, 0, 0, 1)"
   ]
  },
  {
   "cell_type": "code",
   "execution_count": null,
   "metadata": {},
   "outputs": [],
   "source": [
    "img = dataset.hvplot.image(title = 'Deforestation in Maranhão, Brazil. Disturbance Alerts',\n",
    "                            x='lon', y='lat', \n",
    "                            project=True, rasterize=False,\n",
    "                            framewise=False, \n",
    "                            cmap=COLORS, \n",
    "                            colorbar=False,\n",
    "                            widget_location='bottom',\n",
    "                            tiles = gv.tile_sources.ESRI,\n",
    "                            xlabel='Longitude (degrees)',ylabel='Latitude (degrees)',\n",
    "                            fontscale=1.25,\n",
    "                            frame_width=1000, frame_height=1000,)\n",
    "\n",
    "img"
   ]
  }
 ],
 "metadata": {
  "kernelspec": {
   "display_name": "Python 3 (ipykernel)",
   "language": "python",
   "name": "python3"
  },
  "language_info": {
   "codemirror_mode": {
    "name": "ipython",
    "version": 3
   },
   "file_extension": ".py",
   "mimetype": "text/x-python",
   "name": "python",
   "nbconvert_exporter": "python",
   "pygments_lexer": "ipython3",
   "version": "3.12.3"
  }
 },
 "nbformat": 4,
 "nbformat_minor": 4
}
