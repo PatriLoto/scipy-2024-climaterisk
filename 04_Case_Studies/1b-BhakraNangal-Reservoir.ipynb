{
 "cells": [
  {
   "cell_type": "markdown",
   "metadata": {},
   "source": [
    "## Understanding reservoir water levels using OPERA DSWx-HLS data"
   ]
  },
  {
   "cell_type": "markdown",
   "metadata": {},
   "source": [
    "The Bhakra Nangal dam and Gobind Sagar reservoir in India [[1]](https://en.wikipedia.org/wiki/Bhakra_Dam) was opened in 1963 and provides irrigation to 10 million acres in neighboring states of Punjab, Haryana and Rajasthan. We can use the DSWx data to observe fluctutations in water levels over long time periods."
   ]
  },
  {
   "cell_type": "code",
   "execution_count": null,
   "metadata": {},
   "outputs": [],
   "source": [
    "import rasterio\n",
    "import rioxarray\n",
    "from rasterio.crs import CRS\n",
    "from rasterio.warp import transform_bounds\n",
    "import geoviews as gv\n",
    "from geoviews import opts\n",
    "\n",
    "import hvplot.xarray  # noqa\n",
    "\n",
    "from shapely.geometry import Point\n",
    "from osgeo import gdal\n",
    "\n",
    "import pandas as pd\n",
    "\n",
    "# STAC imports to retrieve cloud data\n",
    "from pystac_client import Client\n",
    "\n",
    "from datetime import datetime\n",
    "import numpy as np\n",
    "\n",
    "from util_functions import search_to_df, urls_to_dataset\n",
    "\n",
    "from warnings import filterwarnings\n",
    "filterwarnings(\"ignore\") # suppress PySTAC warnings\n",
    "\n",
    "# GDAL setup for accessing cloud data\n",
    "gdal.SetConfigOption('GDAL_HTTP_COOKIEFILE','~/cookies.txt')\n",
    "gdal.SetConfigOption('GDAL_HTTP_COOKIEJAR', '~/cookies.txt')\n",
    "gdal.SetConfigOption('GDAL_DISABLE_READDIR_ON_OPEN','EMPTY_DIR')\n",
    "gdal.SetConfigOption('CPL_VSIL_CURL_ALLOWED_EXTENSIONS','TIF, TIFF')"
   ]
  },
  {
   "cell_type": "code",
   "execution_count": null,
   "metadata": {},
   "outputs": [],
   "source": [
    "bhakra_dam = (76.46, 31.42)\n",
    "\n",
    "ref_crs = CRS.from_epsg(4326)\n",
    "dst_crs = CRS.from_epsg(3857)\n",
    "map_bounds = transform_bounds(ref_crs, dst_crs, *Point(*bhakra_dam).buffer(2).bounds)"
   ]
  },
  {
   "cell_type": "code",
   "execution_count": null,
   "metadata": {},
   "outputs": [],
   "source": [
    "bhakra_dam_gv = gv.Points([bhakra_dam])\n",
    "\n",
    "basemap = gv.tile_sources.OSM\n",
    "plot = (bhakra_dam_gv*basemap).opts(\n",
    "    opts.Points(\n",
    "        color='red',\n",
    "        alpha=0.75,\n",
    "        size=25,\n",
    "        width=800,\n",
    "        height=800,\n",
    "        xlim=(map_bounds[0], map_bounds[2]),\n",
    "        ylim=(map_bounds[1], map_bounds[3]))\n",
    ")\n",
    "plot"
   ]
  },
  {
   "cell_type": "code",
   "execution_count": null,
   "metadata": {},
   "outputs": [],
   "source": [
    "# We will query the DSWx product record to understand variations in water levels in the reservoir\n",
    "start_date = datetime(year=2023, month=4, day=1)\n",
    "stop_date = datetime(year=2024, month=4, day=1)\n",
    "date_range = f'{start_date.strftime(\"%Y-%m-%d\")}/{stop_date.strftime(\"%Y-%m-%d\")}'\n",
    "\n",
    "# We open a client instance to search for data, and retrieve relevant data records\n",
    "STAC_URL = 'https://cmr.earthdata.nasa.gov/stac'\n",
    "\n",
    "# Setup PySTAC client\n",
    "# POCLOUD refers to the PO DAAC cloud environment that hosts earth observation data\n",
    "catalog = Client.open(f'{STAC_URL}/POCLOUD/') \n",
    "\n",
    "# Setup PySTAC client\n",
    "provider_cat = Client.open(STAC_URL)\n",
    "catalog = Client.open(f'{STAC_URL}/POCLOUD/')\n",
    "collections = [\"OPERA_L3_DSWX-HLS_V1\"]\n",
    "\n",
    "# Setup search options\n",
    "opts = {\n",
    "    'bbox' : Point(*bhakra_dam).buffer(0.01).bounds, \n",
    "    'collections': collections,\n",
    "    'datetime' : date_range,\n",
    "}\n",
    "\n",
    "# Execute the search\n",
    "search = catalog.search(**opts)\n",
    "results = list(search.items_as_dicts())\n",
    "print(f\"Number of tiles found intersecting given AOI: {len(results)}\")"
   ]
  },
  {
   "cell_type": "code",
   "execution_count": null,
   "metadata": {},
   "outputs": [],
   "source": [
    "def filter_search_by_cc(results, cloud_threshold=10):\n",
    "    '''\n",
    "    Given a list of results returned by the NASA Earthdata STAC API for OPERA DSWx data,\n",
    "    filter them by cloud cover\n",
    "\n",
    "    The DSWx data does not always have cloud cover in the metadata. When this is the case,\n",
    "    read the image and calculate the cloud fraction and apply the threshold\n",
    "    '''\n",
    "\n",
    "    filtered_results = []\n",
    "\n",
    "    for result in results:\n",
    "        try:\n",
    "            cloud_cover = result['properties']['eo:cloud_cover']\n",
    "        except:\n",
    "            href = result['assets']['0_B01_WTR']['href']\n",
    "            with rasterio.open(href) as ds:\n",
    "                img = ds.read(1).flatten()\n",
    "                cloud_cover = 100*(np.sum(np.isin(img, 253))/img.size)\n",
    "\n",
    "        if  cloud_cover <= cloud_threshold:\n",
    "            filtered_results.append(result)\n",
    "\n",
    "    return filtered_results"
   ]
  },
  {
   "cell_type": "code",
   "execution_count": null,
   "metadata": {},
   "outputs": [],
   "source": [
    "# let's filter our results so that only scenes with less than 10% cloud cover are returned\n",
    "results = filter_search_by_cc(results)\n",
    "\n",
    "print(\"Number of results containing less than 10% cloud cover: \", len(results))"
   ]
  },
  {
   "cell_type": "code",
   "execution_count": null,
   "metadata": {},
   "outputs": [],
   "source": [
    "# Load results into dataframe\n",
    "granules = search_to_df(results, layer_name='0_B01_WTR')"
   ]
  },
  {
   "cell_type": "code",
   "execution_count": null,
   "metadata": {},
   "outputs": [],
   "source": [
    "dataset= urls_to_dataset(granules)"
   ]
  },
  {
   "cell_type": "code",
   "execution_count": null,
   "metadata": {},
   "outputs": [],
   "source": [
    "# Define a colormap\n",
    "COLORS = [(150, 150, 150, 0.1)]*256 # setting all colors to gray with low opacity\n",
    "COLORS[0] = (0, 255, 0, 0.1) # Setting not water class to green\n",
    "COLORS[1] = (0, 0, 255, 1) # Open surface water\n",
    "COLORS[2] = (0, 0, 255, 1) # Partial surface water"
   ]
  },
  {
   "cell_type": "code",
   "execution_count": null,
   "metadata": {},
   "outputs": [],
   "source": [
    "img = dataset.hvplot.image(title = 'Bhakra Nangal Dam, India - water extent over a year',\n",
    "                            x='lon', y='lat', \n",
    "                            project=True, rasterize=True, \n",
    "                            tiles = gv.tile_sources.OSM,\n",
    "                            cmap=COLORS, \n",
    "                            colorbar=False,\n",
    "                            widget_location='bottom',\n",
    "                            xlabel='Longitude (degrees)',ylabel='Latitude (degrees)',\n",
    "                            fontscale=1.25, frame_width=1000, frame_height=1000)\n",
    "\n",
    "\n",
    "img"
   ]
  }
 ],
 "metadata": {
  "kernelspec": {
   "display_name": "climaterisk",
   "language": "python",
   "name": "python3"
  },
  "language_info": {
   "codemirror_mode": {
    "name": "ipython",
    "version": 3
   },
   "file_extension": ".py",
   "mimetype": "text/x-python",
   "name": "python",
   "nbconvert_exporter": "python",
   "pygments_lexer": "ipython3",
   "version": "3.12.3"
  }
 },
 "nbformat": 4,
 "nbformat_minor": 2
}
