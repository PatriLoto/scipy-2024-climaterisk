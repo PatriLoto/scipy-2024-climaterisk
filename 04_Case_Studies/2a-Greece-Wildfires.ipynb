{
 "cells": [
  {
   "cell_type": "markdown",
   "metadata": {},
   "source": [
    "# Retrieving Disturbance Data\n",
    "\n",
    "The [OPERA DIST-HLS data product](https://lpdaac.usgs.gov/documents/1766/OPERA_DIST_HLS_Product_Specification_V1.pdf) can be used to study the evolution of vegetation loss due to natural and anthropogenic causes."
   ]
  },
  {
   "cell_type": "code",
   "execution_count": null,
   "metadata": {
    "jupyter": {
     "source_hidden": true
    }
   },
   "outputs": [],
   "source": [
    "# Plotting imports\n",
    "import matplotlib.pyplot as plt\n",
    "from matplotlib.colors import ListedColormap\n",
    "from rasterio.plot import show\n",
    "from rasterio.warp import transform_bounds\n",
    "from mpl_toolkits.axes_grid1.anchored_artists import AnchoredSizeBar\n",
    "import geoviews as gv\n",
    "from geoviews import opts\n",
    "from rasterio.crs import CRS\n",
    "gv.extension('bokeh')\n",
    "\n",
    "# GIS imports\n",
    "from shapely.geometry import Point\n",
    "from osgeo import gdal\n",
    "from rasterio.merge import merge\n",
    "import rasterio\n",
    "import contextily as cx\n",
    "import rioxarray\n",
    "import xyzservices.providers as xyz\n",
    "import cartopy.crs as ccrs \n",
    "\n",
    "# data wrangling imports\n",
    "import pandas as pd\n",
    "import numpy as np\n",
    "import hvplot.xarray  # noqa\n",
    "import xarray as xr\n",
    "\n",
    "# misc imports\n",
    "from datetime import datetime, timedelta\n",
    "from collections import defaultdict\n",
    "\n",
    "# STAC imports to retrieve cloud data\n",
    "from pystac_client import Client\n",
    "\n",
    "# Local imports\n",
    "from util_functions import search_to_df\n",
    "\n",
    "# GDAL setup for accessing cloud data\n",
    "gdal.SetConfigOption('GDAL_HTTP_COOKIEFILE','~/cookies.txt')\n",
    "gdal.SetConfigOption('GDAL_HTTP_COOKIEJAR', '~/cookies.txt')\n",
    "gdal.SetConfigOption('GDAL_DISABLE_READDIR_ON_OPEN','EMPTY_DIR')\n",
    "gdal.SetConfigOption('CPL_VSIL_CURL_ALLOWED_EXTENSIONS','TIF, TIFF')"
   ]
  },
  {
   "cell_type": "markdown",
   "metadata": {
    "jupyter": {
     "source_hidden": true
    }
   },
   "source": [
    "### 2023 Greece wildfires\n",
    "\n",
    "In this example, we will retrieve data associated with the [2023 Greece wildfires](https://en.wikipedia.org/wiki/2023_Greece_wildfires) to understand its evolution and extent. We will also generate a time series visualization of the event.\n",
    "\n",
    "In particular, we will be examining the area around the city of [Alexandroupolis](https://en.wikipedia.org/wiki/Alexandroupolis) which was severely impacted by the wildfires, resulting in loss of lives, property, and forested areas."
   ]
  },
  {
   "cell_type": "code",
   "execution_count": null,
   "metadata": {
    "jupyter": {
     "source_hidden": true
    }
   },
   "outputs": [],
   "source": [
    "# Define AOI as a point, to which we will apply a buffer\n",
    "dadia_forest = (26.18, 41.08)\n",
    "\n",
    "ref_crs = CRS.from_epsg(4326)\n",
    "dst_crs = CRS.from_epsg(3857)\n",
    "map_bounds = transform_bounds(ref_crs, dst_crs, *Point(*dadia_forest).buffer(.5).bounds)"
   ]
  },
  {
   "cell_type": "code",
   "execution_count": null,
   "metadata": {
    "jupyter": {
     "source_hidden": true
    }
   },
   "outputs": [],
   "source": [
    "dadia_forest_gv = gv.Points([dadia_forest])\n",
    "\n",
    "basemap = gv.tile_sources.OSM\n",
    "plot = (dadia_forest_gv*basemap).opts(\n",
    "    opts.Points(\n",
    "        color='red',\n",
    "        alpha=0.75,\n",
    "        size=25,\n",
    "        width=800,\n",
    "        height=800,\n",
    "        xlim=(map_bounds[0], map_bounds[2]),\n",
    "        ylim=(map_bounds[1], map_bounds[3]))\n",
    ")\n",
    "plot"
   ]
  },
  {
   "cell_type": "code",
   "execution_count": null,
   "metadata": {
    "jupyter": {
     "source_hidden": true
    }
   },
   "outputs": [],
   "source": [
    "# Define data search parameters\n",
    "\n",
    "# We will search data for the month of March 2024\n",
    "start_date = datetime(year=2023, month=8, day=1)\n",
    "stop_date = datetime(year=2023, month=9, day=30)\n",
    "\n",
    "# We open a client instance to search for data, and retrieve relevant data records\n",
    "STAC_URL = 'https://cmr.earthdata.nasa.gov/stac'\n",
    "\n",
    "# Setup PySTAC client\n",
    "# LPCLOUD refers to the LP DAAC cloud environment that hosts earth observation data\n",
    "catalog = Client.open(f'{STAC_URL}/LPCLOUD/') \n",
    "\n",
    "collections = [\"OPERA_L3_DIST-ALERT-HLS_V1_1\"]\n",
    "\n",
    "# We would like to search data for August-September 2023\n",
    "date_range = f'{start_date.strftime(\"%Y-%m-%d\")}/{stop_date.strftime(\"%Y-%m-%d\")}'\n",
    "\n",
    "search_opts = {\n",
    "    'bbox' : Point(*dadia_forest).buffer(0.1).bounds, \n",
    "    'collections': collections,\n",
    "    'datetime' : date_range,\n",
    "}\n",
    "\n",
    "%time search = catalog.search(**search_opts)"
   ]
  },
  {
   "cell_type": "code",
   "execution_count": null,
   "metadata": {
    "jupyter": {
     "source_hidden": true
    }
   },
   "outputs": [],
   "source": [
    "%%time\n",
    "results = list(search.items_as_dicts())\n",
    "print(f\"Number of tiles found intersecting given AOI: {len(results)}\")"
   ]
  },
  {
   "cell_type": "code",
   "execution_count": null,
   "metadata": {
    "jupyter": {
     "source_hidden": true
    }
   },
   "outputs": [],
   "source": [
    "# Let's load results into a pandas dataframe\n",
    "granules = search_to_df(results, layer_name='VEG-DIST-STATUS')\n",
    "granules.head()"
   ]
  },
  {
   "cell_type": "code",
   "execution_count": null,
   "metadata": {
    "jupyter": {
     "source_hidden": true
    }
   },
   "outputs": [],
   "source": [
    "# Let's refine the dataframe a bit more so that we group together granules by \n",
    "# date of acquisition - we don't mind if they were acquired at different times \n",
    "# of the same day\n",
    "\n",
    "refined_granules = defaultdict(list)\n",
    "\n",
    "for i, row in granules.iterrows():\n",
    "    refined_granules[i.strftime('%Y-%m-%d')].append(row.hrefs)\n",
    "\n",
    "refined_granules = pd.DataFrame(index=refined_granules.keys(), data = {'hrefs':refined_granules.values()})"
   ]
  },
  {
   "cell_type": "code",
   "execution_count": null,
   "metadata": {
    "jupyter": {
     "source_hidden": true
    }
   },
   "outputs": [],
   "source": [
    "# The wildfire near Alexandroupolis started on August 21st and rapidly spread, particularly affecting the nearby Dadia Forest\n",
    "# For demonstration purposes, let's look at three dates to study the extent of the fire - \n",
    "# August 1st, August 25th, and September 19th\n",
    "# We will plot the OPERA-DIST-ALERT data product, highlighting only those pixels corresponding to confirmed vegetation damage,\n",
    "# and in particular only those pixels where at least 50% of the area was affected (layer value 6)\n",
    "\n",
    "dates_of_interest = [datetime(year=2023, month=8, day=1), datetime(year=2023, month=8, day=26), datetime(year=2023, month=9, day=18)]\n",
    "hrefs_of_interest = [x.hrefs for i, x in refined_granules.iterrows() if datetime.strptime(i, '%Y-%m-%d') in dates_of_interest]"
   ]
  },
  {
   "cell_type": "code",
   "execution_count": null,
   "metadata": {
    "jupyter": {
     "source_hidden": true
    }
   },
   "outputs": [],
   "source": [
    "# Define color map to generate plot (Red, Green, Blue, Alpha)\n",
    "colors = [(1, 1, 1, 0)] * 256  # Initial set all values to white, with zero opacity\n",
    "colors[6] = (1, 0, 0, 1)       # Set class 6 to Red with 100% opacity\n",
    "\n",
    "# Create a ListedColormap\n",
    "cmap = ListedColormap(colors)"
   ]
  },
  {
   "cell_type": "code",
   "execution_count": null,
   "metadata": {
    "jupyter": {
     "source_hidden": true
    }
   },
   "outputs": [],
   "source": [
    "%%time\n",
    "fig, ax = plt.subplots(1, 3, figsize = (30, 10))\n",
    "crs = None\n",
    "\n",
    "for i, (date, hrefs) in enumerate(zip(dates_of_interest, hrefs_of_interest)):\n",
    "    \n",
    "    # Read the crs to be used to generate basemaps\n",
    "    if crs is None:\n",
    "        with rasterio.open(hrefs[0]) as ds:\n",
    "            crs = ds.crs\n",
    "\n",
    "    if len(hrefs) == 1:\n",
    "        with rasterio.open(hrefs[0]) as ds:\n",
    "            raster = ds.read()\n",
    "            transform = ds.transform\n",
    "    else:\n",
    "        raster, transform = merge(hrefs)\n",
    "\n",
    "    show(raster, ax=ax[i], transform=transform, interpolation='none')\n",
    "    cx.add_basemap(ax[i], crs=crs, zoom=9, source=cx.providers.OpenStreetMap.Mapnik)\n",
    "    show(raster, ax=ax[i], transform=transform, interpolation='none', cmap=cmap)\n",
    "\n",
    "    scalebar = AnchoredSizeBar(ax[i].transData,\n",
    "                            10000 , '10 km', 'lower right', \n",
    "                            color='black',\n",
    "                            frameon=False,\n",
    "                            pad = 0.25,\n",
    "                            sep=5,\n",
    "                            fontproperties = {'weight':'semibold', 'size':12},\n",
    "                            size_vertical=300)\n",
    "\n",
    "    ax[i].add_artist(scalebar)\n",
    "    ax[i].ticklabel_format(axis='both', style='scientific',scilimits=(0,0),useOffset=False,useMathText=True)\n",
    "    ax[i].set_xlabel('UTM easting (meters)')\n",
    "    ax[i].set_ylabel('UTM northing (meters)')\n",
    "    ax[i].set_title(f\"Disturbance extent on: {date.strftime('%Y-%m-%d')}\")"
   ]
  },
  {
   "cell_type": "markdown",
   "metadata": {},
   "source": [
    "Let's calculate the area affected over time"
   ]
  },
  {
   "cell_type": "code",
   "execution_count": null,
   "metadata": {
    "jupyter": {
     "source_hidden": true
    }
   },
   "outputs": [],
   "source": [
    "%%time\n",
    "damage_area = []\n",
    "conversion_factor = (30*1e-3)**2 # to convert pixel count to area in km^2; each pixel is 30x30 meters\n",
    "\n",
    "# this will take a few minutes to run, since we are retrieving data for multiple days\n",
    "for index, row in refined_granules.iterrows():\n",
    "    raster, transform = merge(row.hrefs)\n",
    "    damage_area.append(np.sum(raster==6)*conversion_factor)\n",
    "\n",
    "refined_granules['damage_area'] = damage_area"
   ]
  },
  {
   "cell_type": "code",
   "execution_count": null,
   "metadata": {
    "jupyter": {
     "source_hidden": true
    }
   },
   "outputs": [],
   "source": [
    "fig, ax = plt.subplots(1, 1, figsize=(20, 10))\n",
    "ax.plot([datetime.strptime(i, '%Y-%m-%d') for i in refined_granules.index], refined_granules['damage_area'], color='red')\n",
    "ax.grid()\n",
    "plt.ylabel('Area damaged by wildfire (km$^2$)', size=15)\n",
    "plt.xlabel('Date', size=15)\n",
    "plt.xticks([datetime(year=2023, month=8, day=1) + timedelta(days=6*i) for i in range(11)], size=14)\n",
    "plt.title('2023 Dadia forest wildfire detected extent', size=14);"
   ]
  }
 ],
 "metadata": {
  "kernelspec": {
   "display_name": "Python 3 (ipykernel)",
   "language": "python",
   "name": "python3"
  },
  "language_info": {
   "codemirror_mode": {
    "name": "ipython",
    "version": 3
   },
   "file_extension": ".py",
   "mimetype": "text/x-python",
   "name": "python",
   "nbconvert_exporter": "python",
   "pygments_lexer": "ipython3",
   "version": "3.12.4"
  }
 },
 "nbformat": 4,
 "nbformat_minor": 4
}
