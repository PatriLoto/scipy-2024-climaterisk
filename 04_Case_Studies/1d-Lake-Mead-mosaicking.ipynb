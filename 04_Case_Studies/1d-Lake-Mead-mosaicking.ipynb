{
 "cells": [
  {
   "cell_type": "markdown",
   "metadata": {},
   "source": [
    "## Understanding reservoir water levels using OPERA DSWx-HLS data"
   ]
  },
  {
   "cell_type": "markdown",
   "metadata": {},
   "source": [
    "[Lake Mead](https://en.wikipedia.org/wiki/Lake_Mead) is a water reservoir in southwestern United States and is significant for irrigation in neighboring states. The lake has experienced significant drought over the past decade and particularly during 2020-2023. In this notebook we demonstrate visualizing time series data, along with a vector shape that outlines the nominal levels of the lake.\n",
    "\n",
    "In this notebook, we briefly demonstrate how to mosaic tiles and visualize them in hvplot."
   ]
  },
  {
   "cell_type": "code",
   "execution_count": null,
   "metadata": {
    "jupyter": {
     "source_hidden": true
    }
   },
   "outputs": [],
   "source": [
    "from warnings import filterwarnings\n",
    "filterwarnings(\"ignore\") # suppress PySTAC warnings\n",
    "\n",
    "# GIS imports\n",
    "import rasterio\n",
    "from rasterio.merge import merge\n",
    "from rasterio.transform import array_bounds\n",
    "import rioxarray\n",
    "from rasterio.crs import CRS\n",
    "from rasterio.warp import transform_bounds\n",
    "import geoviews as gv\n",
    "from geoviews import opts\n",
    "import geopandas as gpd\n",
    "from shapely.geometry import Point\n",
    "from osgeo import gdal\n",
    "import xyzservices.providers as xyz\n",
    "\n",
    "# Misc imports\n",
    "import xarray as xr\n",
    "import hvplot.xarray  # noqa\n",
    "from datetime import datetime\n",
    "import numpy as np\n",
    "\n",
    "# STAC imports to retrieve cloud data\n",
    "from pystac_client import Client\n",
    "\n",
    "# Local imports\n",
    "from util_functions import search_to_df, urls_to_dataset, filter_search_by_cc\n",
    "\n",
    "# GDAL setup for accessing cloud data\n",
    "gdal.SetConfigOption('GDAL_HTTP_COOKIEFILE','~/cookies.txt')\n",
    "gdal.SetConfigOption('GDAL_HTTP_COOKIEJAR', '~/cookies.txt')\n",
    "gdal.SetConfigOption('GDAL_DISABLE_READDIR_ON_OPEN','EMPTY_DIR')\n",
    "gdal.SetConfigOption('CPL_VSIL_CURL_ALLOWED_EXTENSIONS','TIF, TIFF')"
   ]
  },
  {
   "cell_type": "code",
   "execution_count": null,
   "metadata": {
    "jupyter": {
     "source_hidden": true
    }
   },
   "outputs": [],
   "source": [
    "lake_mead = (-114.754, 36.131)\n",
    "\n",
    "ref_crs = CRS.from_epsg(4326)\n",
    "dst_crs = CRS.from_epsg(3857)\n",
    "map_bounds = transform_bounds(ref_crs, dst_crs, *Point(*lake_mead).buffer(2).bounds)"
   ]
  },
  {
   "cell_type": "code",
   "execution_count": null,
   "metadata": {
    "jupyter": {
     "source_hidden": true
    }
   },
   "outputs": [],
   "source": [
    "lake_mead_gv = gv.Points([lake_mead])\n",
    "\n",
    "basemap = gv.tile_sources.OSM\n",
    "plot = (lake_mead_gv*basemap).opts(\n",
    "    opts.Points(\n",
    "        color='red',\n",
    "        alpha=0.75,\n",
    "        size=25,\n",
    "        width=800,\n",
    "        height=800,\n",
    "        xlim=(map_bounds[0], map_bounds[2]),\n",
    "        ylim=(map_bounds[1], map_bounds[3]))\n",
    ")\n",
    "plot"
   ]
  },
  {
   "cell_type": "code",
   "execution_count": null,
   "metadata": {
    "jupyter": {
     "source_hidden": true
    }
   },
   "outputs": [],
   "source": [
    "%%time\n",
    "# We will search the available product record\n",
    "start_date = datetime(year=2023, month=3, day=1)\n",
    "stop_date = datetime(year=2023, month=4, day=15) # datetime.now() # \n",
    "date_range = f'{start_date.strftime(\"%Y-%m-%d\")}/{stop_date.strftime(\"%Y-%m-%d\")}'\n",
    "\n",
    "# We open a client instance to search for data, and retrieve relevant data records\n",
    "STAC_URL = 'https://cmr.earthdata.nasa.gov/stac'\n",
    "\n",
    "# Setup PySTAC client\n",
    "# POCLOUD refers to the PO DAAC cloud environment that hosts earth observation data\n",
    "catalog = Client.open(f'{STAC_URL}/POCLOUD/') \n",
    "\n",
    "# Setup PySTAC client\n",
    "provider_cat = Client.open(STAC_URL)\n",
    "catalog = Client.open(f'{STAC_URL}/POCLOUD/')\n",
    "collections = [\"OPERA_L3_DSWX-HLS_V1_1.0\"]\n",
    "\n",
    "# Setup search options\n",
    "search_opts = {\n",
    "    'bbox' : Point(*lake_mead).buffer(0.1).bounds, \n",
    "    'collections': collections,\n",
    "    'datetime' : date_range,\n",
    "}\n",
    "\n",
    "# Execute the search\n",
    "search = catalog.search(**search_opts)\n",
    "results = list(search.items_as_dicts())\n",
    "print(f\"Number of tiles found intersecting given AOI: {len(results)}\")"
   ]
  },
  {
   "cell_type": "code",
   "execution_count": null,
   "metadata": {
    "jupyter": {
     "source_hidden": true
    }
   },
   "outputs": [],
   "source": [
    "# let's filter our results so that only scenes with less than 10% cloud cover are returned\n",
    "results = filter_search_by_cc(results)\n",
    "\n",
    "print(\"Number of results containing less than 10% cloud cover: \", len(results))"
   ]
  },
  {
   "cell_type": "code",
   "execution_count": null,
   "metadata": {
    "jupyter": {
     "source_hidden": true
    }
   },
   "outputs": [],
   "source": [
    "# Load results into dataframe\n",
    "granules = search_to_df(results, layer_name='0_B01_WTR')"
   ]
  },
  {
   "cell_type": "code",
   "execution_count": null,
   "metadata": {
    "jupyter": {
     "source_hidden": true
    }
   },
   "outputs": [],
   "source": [
    "granules.tile_id.unique()"
   ]
  },
  {
   "cell_type": "code",
   "execution_count": null,
   "metadata": {
    "jupyter": {
     "source_hidden": true
    }
   },
   "outputs": [],
   "source": [
    "%time mosaicked_img, mosaic_transform = merge(list(granules.hrefs))"
   ]
  },
  {
   "cell_type": "code",
   "execution_count": null,
   "metadata": {
    "jupyter": {
     "source_hidden": true
    }
   },
   "outputs": [],
   "source": [
    "bounds = array_bounds(6994, 6992, mosaic_transform)"
   ]
  },
  {
   "cell_type": "code",
   "execution_count": null,
   "metadata": {
    "jupyter": {
     "source_hidden": true
    }
   },
   "outputs": [],
   "source": [
    "bounds"
   ]
  },
  {
   "cell_type": "code",
   "execution_count": null,
   "metadata": {
    "jupyter": {
     "source_hidden": true
    }
   },
   "outputs": [],
   "source": [
    "def mosaic_and_dataset(granule_dataframe):\n",
    "    '''\n",
    "    This method takes a pandas dataframe from a PySTAC query and mosaics the tiles it points to.  \n",
    "    The raster is then loaded into an xarray data array and returned\n",
    "    '''\n",
    "\n",
    "    mosaicked_img, mosaic_transform = merge(list(granule_dataframe.hrefs))\n",
    "    bounds = array_bounds(mosaicked_img.shape[1], mosaicked_img.shape[2], mosaic_transform)\n",
    "    \n",
    "    with rasterio.open(granule_dataframe.iloc[0].hrefs) as ds:\n",
    "        # extract CRS string\n",
    "        crs = str(ds.crs).split(':')[-1]\n",
    "\n",
    "    # the x and y resolution of the image is available in image metadata\n",
    "    x_res = np.abs(mosaic_transform[0])\n",
    "    y_res = np.abs(mosaic_transform[4])\n",
    "\n",
    "    xmin, ymin, xmax, ymax = bounds\n",
    "\n",
    "    lon = np.arange(xmin, xmax, x_res)\n",
    "    lat = np.arange(ymax, ymin, -y_res)\n",
    "\n",
    "    da = xr.DataArray(\n",
    "        data=mosaicked_img,\n",
    "        dims=[\"band\", \"lat\", \"lon\"],\n",
    "        coords=dict(\n",
    "            lon=([\"lon\"], lon),\n",
    "            lat=([\"lat\"], lat),\n",
    "        ),\n",
    "        attrs=dict(\n",
    "            description=\"OPERA DSWx B01\",\n",
    "            units=None,\n",
    "        ),\n",
    "    )\n",
    "    da.rio.write_crs(crs, inplace=True)\n",
    "\n",
    "    return da\n",
    "    "
   ]
  },
  {
   "cell_type": "code",
   "execution_count": null,
   "metadata": {
    "jupyter": {
     "source_hidden": true
    }
   },
   "outputs": [],
   "source": [
    "%time dataset = mosaic_and_dataset(granules)"
   ]
  },
  {
   "cell_type": "code",
   "execution_count": null,
   "metadata": {
    "jupyter": {
     "source_hidden": true
    }
   },
   "outputs": [],
   "source": [
    "# Define a colormap\n",
    "COLORS = [(255, 255, 255, 0.1)]*256 # setting all colors to transparent initially\n",
    "COLORS[0] = (0, 255, 0, 0.1) # Setting not water class to green\n",
    "COLORS[1] = (0, 0, 255, 1) # Open surface water\n",
    "COLORS[2] = (0, 0, 255, 1) # Partial surface water"
   ]
  },
  {
   "cell_type": "code",
   "execution_count": null,
   "metadata": {
    "jupyter": {
     "source_hidden": true
    }
   },
   "outputs": [],
   "source": [
    "img = dataset.hvplot.image(title = 'Lake Mead, NV USA - mosaicked water extent',\n",
    "                            x='lon', y='lat', \n",
    "                            project=True, rasterize=False,\n",
    "                            framewise=False, \n",
    "                            cmap=COLORS, \n",
    "                            colorbar=False,\n",
    "                            widget_location='bottom',\n",
    "                            tiles = gv.tile_sources.ESRI,\n",
    "                            xlabel='Longitude (degrees)',ylabel='Latitude (degrees)',\n",
    "                            fontscale=1.25,\n",
    "                            frame_width=1000, frame_height=1000,)\n",
    "\n",
    "img"
   ]
  }
 ],
 "metadata": {
  "kernelspec": {
   "display_name": "Python 3 (ipykernel)",
   "language": "python",
   "name": "python3"
  },
  "language_info": {
   "codemirror_mode": {
    "name": "ipython",
    "version": 3
   },
   "file_extension": ".py",
   "mimetype": "text/x-python",
   "name": "python",
   "nbconvert_exporter": "python",
   "pygments_lexer": "ipython3",
   "version": "3.12.4"
  }
 },
 "nbformat": 4,
 "nbformat_minor": 4
}
